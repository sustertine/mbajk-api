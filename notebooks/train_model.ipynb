{
 "cells": [
  {
   "cell_type": "code",
   "execution_count": 28,
   "id": "initial_id",
   "metadata": {
    "collapsed": true,
    "ExecuteTime": {
     "end_time": "2024-05-01T20:25:57.472778100Z",
     "start_time": "2024-05-01T20:25:57.433779100Z"
    }
   },
   "outputs": [],
   "source": [
    "import pandas as pd\n",
    "import numpy as np\n",
    "from keras.losses import MeanAbsoluteError, MeanSquaredError\n",
    "from keras.models import Sequential\n",
    "from keras.layers import LSTM, Dense\n",
    "from keras.optimizers import Adam\n",
    "from sklearn.model_selection import train_test_split"
   ]
  },
  {
   "cell_type": "code",
   "execution_count": 29,
   "outputs": [],
   "source": [
    "df = pd.read_csv('../data/processed/mbajk_dataset.csv')\n",
    "df['date'] = pd.to_datetime(df['date'])\n",
    "df.sort_values(by='date', inplace=True)"
   ],
   "metadata": {
    "collapsed": false,
    "ExecuteTime": {
     "end_time": "2024-05-01T20:25:57.559792800Z",
     "start_time": "2024-05-01T20:25:57.445878300Z"
    }
   },
   "id": "87644f1237ccf679"
  },
  {
   "cell_type": "code",
   "execution_count": 30,
   "outputs": [
    {
     "name": "stderr",
     "output_type": "stream",
     "text": [
      "C:\\Users\\Tine Šuster\\AppData\\Local\\Temp\\ipykernel_15432\\210845773.py:2: FutureWarning: 'H' is deprecated and will be removed in a future version, please use 'h' instead.\n",
      "  df = df.resample('H').mean()\n"
     ]
    }
   ],
   "source": [
    "df.set_index('date', inplace=True)\n",
    "df = df.resample('H').mean()\n",
    "df.reset_index(inplace=True)\n",
    "df.drop('date', inplace=True, axis=1)\n",
    "df.dropna(inplace=True)"
   ],
   "metadata": {
    "collapsed": false,
    "ExecuteTime": {
     "end_time": "2024-05-01T20:25:57.569792800Z",
     "start_time": "2024-05-01T20:25:57.555793Z"
    }
   },
   "id": "e9646a8d11db151b"
  },
  {
   "cell_type": "code",
   "execution_count": 31,
   "outputs": [
    {
     "data": {
      "text/plain": "Index(['temperature', 'dew_point', 'apparent_temperature', 'surface_pressure',\n       'available_bike_stands', 'lagged_available_bike_stands',\n       'rolling_mean_bike_stands', 'rolling_std_bike_stands',\n       'diff_available_bike_stands', 'temperature_diff'],\n      dtype='object')"
     },
     "execution_count": 31,
     "metadata": {},
     "output_type": "execute_result"
    }
   ],
   "source": [
    "df.columns"
   ],
   "metadata": {
    "collapsed": false,
    "ExecuteTime": {
     "end_time": "2024-05-01T20:25:57.628792Z",
     "start_time": "2024-05-01T20:25:57.570792800Z"
    }
   },
   "id": "6c04fcc149379a52"
  },
  {
   "cell_type": "code",
   "execution_count": 32,
   "outputs": [],
   "source": [
    "def create_dataset(dataset, look_back=1, look_forward=5):\n",
    "    dataX, dataY = [], []\n",
    "    for i in range(len(dataset)-look_back-look_forward):\n",
    "        a = dataset.iloc[i:(i+look_back), :]\n",
    "        dataX.append(a)\n",
    "        \n",
    "        dataY.append(dataset.iloc[i + look_back:i + look_back + look_forward]['available_bike_stands'])\n",
    "    return np.array(dataX), np.array(dataY)\n",
    "\n",
    "look_back = 1\n",
    "look_forward = 5\n",
    "dataX, dataY = create_dataset(df, look_back, look_forward)  # Pass df instead of df_predict"
   ],
   "metadata": {
    "collapsed": false,
    "ExecuteTime": {
     "end_time": "2024-05-01T20:25:58.290792500Z",
     "start_time": "2024-05-01T20:25:57.589794300Z"
    }
   },
   "id": "bfcba14ce069a774"
  },
  {
   "cell_type": "code",
   "execution_count": 33,
   "outputs": [],
   "source": [
    "trainX, testX, trainY, testY = train_test_split(dataX, dataY, test_size=0.2, random_state=1234)"
   ],
   "metadata": {
    "collapsed": false,
    "ExecuteTime": {
     "end_time": "2024-05-01T20:25:58.293794800Z",
     "start_time": "2024-05-01T20:25:58.287792400Z"
    }
   },
   "id": "d9f46f5a7bdee9a6"
  },
  {
   "cell_type": "code",
   "execution_count": 34,
   "outputs": [
    {
     "name": "stdout",
     "output_type": "stream",
     "text": [
      "Model: \"sequential_3\"\n",
      "_________________________________________________________________\n",
      " Layer (type)                Output Shape              Param #   \n",
      "=================================================================\n",
      " lstm_6 (LSTM)               (None, 1, 100)            44400     \n",
      "                                                                 \n",
      " dense_6 (Dense)             (None, 1, 100)            10100     \n",
      "                                                                 \n",
      " lstm_7 (LSTM)               (None, 100)               80400     \n",
      "                                                                 \n",
      " dense_7 (Dense)             (None, 5)                 505       \n",
      "                                                                 \n",
      "=================================================================\n",
      "Total params: 135,405\n",
      "Trainable params: 135,405\n",
      "Non-trainable params: 0\n",
      "_________________________________________________________________\n"
     ]
    }
   ],
   "source": [
    "model = Sequential()\n",
    "model.add(LSTM(100, activation='relu', input_shape=(trainX.shape[1], trainX.shape[2]), return_sequences=True))\n",
    "model.add(Dense(100, activation='relu'))\n",
    "model.add(LSTM(100, activation='relu'))\n",
    "model.add(Dense(5))\n",
    "model.compile(optimizer=Adam(learning_rate=0.001), loss='mse',metrics=[MeanSquaredError(), MeanAbsoluteError()])\n",
    "model.summary()"
   ],
   "metadata": {
    "collapsed": false,
    "ExecuteTime": {
     "end_time": "2024-05-01T20:25:58.481792Z",
     "start_time": "2024-05-01T20:25:58.294792800Z"
    }
   },
   "id": "71a10dc021f10aad"
  },
  {
   "cell_type": "code",
   "execution_count": 35,
   "outputs": [
    {
     "name": "stdout",
     "output_type": "stream",
     "text": [
      "Epoch 1/100\n",
      "117/117 [==============================] - 2s 3ms/step - loss: 0.1349 - mean_squared_error: 0.1348 - mean_absolute_error: 0.2810\n",
      "Epoch 2/100\n",
      "117/117 [==============================] - 0s 2ms/step - loss: 0.0476 - mean_squared_error: 0.0476 - mean_absolute_error: 0.1719\n",
      "Epoch 3/100\n",
      "117/117 [==============================] - 0s 2ms/step - loss: 0.0449 - mean_squared_error: 0.0449 - mean_absolute_error: 0.1660\n",
      "Epoch 4/100\n",
      "117/117 [==============================] - 0s 2ms/step - loss: 0.0433 - mean_squared_error: 0.0433 - mean_absolute_error: 0.1626\n",
      "Epoch 5/100\n",
      "117/117 [==============================] - 0s 2ms/step - loss: 0.0419 - mean_squared_error: 0.0419 - mean_absolute_error: 0.1587\n",
      "Epoch 6/100\n",
      "117/117 [==============================] - 0s 2ms/step - loss: 0.0410 - mean_squared_error: 0.0410 - mean_absolute_error: 0.1562\n",
      "Epoch 7/100\n",
      "117/117 [==============================] - 0s 3ms/step - loss: 0.0402 - mean_squared_error: 0.0402 - mean_absolute_error: 0.1538\n",
      "Epoch 8/100\n",
      "117/117 [==============================] - 0s 3ms/step - loss: 0.0388 - mean_squared_error: 0.0388 - mean_absolute_error: 0.1502\n",
      "Epoch 9/100\n",
      "117/117 [==============================] - 0s 3ms/step - loss: 0.0382 - mean_squared_error: 0.0382 - mean_absolute_error: 0.1484\n",
      "Epoch 10/100\n",
      "117/117 [==============================] - 0s 2ms/step - loss: 0.0379 - mean_squared_error: 0.0379 - mean_absolute_error: 0.1473\n",
      "Epoch 11/100\n",
      "117/117 [==============================] - 0s 2ms/step - loss: 0.0376 - mean_squared_error: 0.0376 - mean_absolute_error: 0.1473\n",
      "Epoch 12/100\n",
      "117/117 [==============================] - 0s 3ms/step - loss: 0.0374 - mean_squared_error: 0.0375 - mean_absolute_error: 0.1459\n",
      "Epoch 13/100\n",
      "117/117 [==============================] - 0s 2ms/step - loss: 0.0367 - mean_squared_error: 0.0367 - mean_absolute_error: 0.1444\n",
      "Epoch 14/100\n",
      "117/117 [==============================] - 0s 2ms/step - loss: 0.0368 - mean_squared_error: 0.0368 - mean_absolute_error: 0.1447\n",
      "Epoch 15/100\n",
      "117/117 [==============================] - 0s 2ms/step - loss: 0.0371 - mean_squared_error: 0.0372 - mean_absolute_error: 0.1456\n",
      "Epoch 16/100\n",
      "117/117 [==============================] - 0s 2ms/step - loss: 0.0363 - mean_squared_error: 0.0363 - mean_absolute_error: 0.1438\n",
      "Epoch 17/100\n",
      "117/117 [==============================] - 0s 2ms/step - loss: 0.0363 - mean_squared_error: 0.0363 - mean_absolute_error: 0.1428\n",
      "Epoch 18/100\n",
      "117/117 [==============================] - 0s 2ms/step - loss: 0.0353 - mean_squared_error: 0.0353 - mean_absolute_error: 0.1413\n",
      "Epoch 19/100\n",
      "117/117 [==============================] - 0s 2ms/step - loss: 0.0361 - mean_squared_error: 0.0361 - mean_absolute_error: 0.1426\n",
      "Epoch 20/100\n",
      "117/117 [==============================] - 0s 2ms/step - loss: 0.0353 - mean_squared_error: 0.0353 - mean_absolute_error: 0.1407\n",
      "Epoch 21/100\n",
      "117/117 [==============================] - 0s 2ms/step - loss: 0.0347 - mean_squared_error: 0.0347 - mean_absolute_error: 0.1399\n",
      "Epoch 22/100\n",
      "117/117 [==============================] - 0s 2ms/step - loss: 0.0352 - mean_squared_error: 0.0351 - mean_absolute_error: 0.1407\n",
      "Epoch 23/100\n",
      "117/117 [==============================] - 0s 2ms/step - loss: 0.0346 - mean_squared_error: 0.0346 - mean_absolute_error: 0.1399\n",
      "Epoch 24/100\n",
      "117/117 [==============================] - 0s 2ms/step - loss: 0.0346 - mean_squared_error: 0.0345 - mean_absolute_error: 0.1396\n",
      "Epoch 25/100\n",
      "117/117 [==============================] - 0s 2ms/step - loss: 0.0338 - mean_squared_error: 0.0339 - mean_absolute_error: 0.1371\n",
      "Epoch 26/100\n",
      "117/117 [==============================] - 0s 2ms/step - loss: 0.0343 - mean_squared_error: 0.0342 - mean_absolute_error: 0.1383\n",
      "Epoch 27/100\n",
      "117/117 [==============================] - 0s 2ms/step - loss: 0.0336 - mean_squared_error: 0.0336 - mean_absolute_error: 0.1373\n",
      "Epoch 28/100\n",
      "117/117 [==============================] - 0s 2ms/step - loss: 0.0333 - mean_squared_error: 0.0334 - mean_absolute_error: 0.1360\n",
      "Epoch 29/100\n",
      "117/117 [==============================] - 0s 2ms/step - loss: 0.0336 - mean_squared_error: 0.0336 - mean_absolute_error: 0.1374\n",
      "Epoch 30/100\n",
      "117/117 [==============================] - 0s 2ms/step - loss: 0.0329 - mean_squared_error: 0.0329 - mean_absolute_error: 0.1348\n",
      "Epoch 31/100\n",
      "117/117 [==============================] - 0s 2ms/step - loss: 0.0331 - mean_squared_error: 0.0331 - mean_absolute_error: 0.1359\n",
      "Epoch 32/100\n",
      "117/117 [==============================] - 0s 2ms/step - loss: 0.0333 - mean_squared_error: 0.0332 - mean_absolute_error: 0.1367\n",
      "Epoch 33/100\n",
      "117/117 [==============================] - 0s 2ms/step - loss: 0.0328 - mean_squared_error: 0.0328 - mean_absolute_error: 0.1349\n",
      "Epoch 34/100\n",
      "117/117 [==============================] - 0s 2ms/step - loss: 0.0321 - mean_squared_error: 0.0321 - mean_absolute_error: 0.1334\n",
      "Epoch 35/100\n",
      "117/117 [==============================] - 0s 2ms/step - loss: 0.0316 - mean_squared_error: 0.0316 - mean_absolute_error: 0.1327\n",
      "Epoch 36/100\n",
      "117/117 [==============================] - 0s 2ms/step - loss: 0.0321 - mean_squared_error: 0.0321 - mean_absolute_error: 0.1334\n",
      "Epoch 37/100\n",
      "117/117 [==============================] - 0s 2ms/step - loss: 0.0317 - mean_squared_error: 0.0317 - mean_absolute_error: 0.1322\n",
      "Epoch 38/100\n",
      "117/117 [==============================] - 0s 2ms/step - loss: 0.0317 - mean_squared_error: 0.0317 - mean_absolute_error: 0.1333\n",
      "Epoch 39/100\n",
      "117/117 [==============================] - 0s 2ms/step - loss: 0.0313 - mean_squared_error: 0.0313 - mean_absolute_error: 0.1313\n",
      "Epoch 40/100\n",
      "117/117 [==============================] - 0s 3ms/step - loss: 0.0309 - mean_squared_error: 0.0309 - mean_absolute_error: 0.1304\n",
      "Epoch 41/100\n",
      "117/117 [==============================] - 0s 2ms/step - loss: 0.0317 - mean_squared_error: 0.0317 - mean_absolute_error: 0.1325\n",
      "Epoch 42/100\n",
      "117/117 [==============================] - 0s 2ms/step - loss: 0.0308 - mean_squared_error: 0.0308 - mean_absolute_error: 0.1306\n",
      "Epoch 43/100\n",
      "117/117 [==============================] - 0s 2ms/step - loss: 0.0306 - mean_squared_error: 0.0306 - mean_absolute_error: 0.1296\n",
      "Epoch 44/100\n",
      "117/117 [==============================] - 0s 2ms/step - loss: 0.0305 - mean_squared_error: 0.0305 - mean_absolute_error: 0.1306\n",
      "Epoch 45/100\n",
      "117/117 [==============================] - 0s 2ms/step - loss: 0.0311 - mean_squared_error: 0.0311 - mean_absolute_error: 0.1321\n",
      "Epoch 46/100\n",
      "117/117 [==============================] - 0s 2ms/step - loss: 0.0300 - mean_squared_error: 0.0300 - mean_absolute_error: 0.1289\n",
      "Epoch 47/100\n",
      "117/117 [==============================] - 0s 2ms/step - loss: 0.0308 - mean_squared_error: 0.0308 - mean_absolute_error: 0.1314\n",
      "Epoch 48/100\n",
      "117/117 [==============================] - 0s 2ms/step - loss: 0.0305 - mean_squared_error: 0.0305 - mean_absolute_error: 0.1303\n",
      "Epoch 49/100\n",
      "117/117 [==============================] - 0s 2ms/step - loss: 0.0299 - mean_squared_error: 0.0299 - mean_absolute_error: 0.1290\n",
      "Epoch 50/100\n",
      "117/117 [==============================] - 0s 2ms/step - loss: 0.0295 - mean_squared_error: 0.0295 - mean_absolute_error: 0.1281\n",
      "Epoch 51/100\n",
      "117/117 [==============================] - 0s 2ms/step - loss: 0.0293 - mean_squared_error: 0.0293 - mean_absolute_error: 0.1277\n",
      "Epoch 52/100\n",
      "117/117 [==============================] - 0s 2ms/step - loss: 0.0297 - mean_squared_error: 0.0297 - mean_absolute_error: 0.1286\n",
      "Epoch 53/100\n",
      "117/117 [==============================] - 0s 2ms/step - loss: 0.0291 - mean_squared_error: 0.0291 - mean_absolute_error: 0.1270\n",
      "Epoch 54/100\n",
      "117/117 [==============================] - 0s 2ms/step - loss: 0.0290 - mean_squared_error: 0.0290 - mean_absolute_error: 0.1272\n",
      "Epoch 55/100\n",
      "117/117 [==============================] - 0s 2ms/step - loss: 0.0287 - mean_squared_error: 0.0287 - mean_absolute_error: 0.1258\n",
      "Epoch 56/100\n",
      "117/117 [==============================] - 0s 2ms/step - loss: 0.0290 - mean_squared_error: 0.0290 - mean_absolute_error: 0.1274\n",
      "Epoch 57/100\n",
      "117/117 [==============================] - 0s 2ms/step - loss: 0.0286 - mean_squared_error: 0.0286 - mean_absolute_error: 0.1259\n",
      "Epoch 58/100\n",
      "117/117 [==============================] - 0s 2ms/step - loss: 0.0287 - mean_squared_error: 0.0287 - mean_absolute_error: 0.1262\n",
      "Epoch 59/100\n",
      "117/117 [==============================] - 0s 2ms/step - loss: 0.0290 - mean_squared_error: 0.0290 - mean_absolute_error: 0.1266\n",
      "Epoch 60/100\n",
      "117/117 [==============================] - 0s 2ms/step - loss: 0.0284 - mean_squared_error: 0.0284 - mean_absolute_error: 0.1260\n",
      "Epoch 61/100\n",
      "117/117 [==============================] - 0s 2ms/step - loss: 0.0284 - mean_squared_error: 0.0284 - mean_absolute_error: 0.1255\n",
      "Epoch 62/100\n",
      "117/117 [==============================] - 0s 2ms/step - loss: 0.0284 - mean_squared_error: 0.0284 - mean_absolute_error: 0.1259\n",
      "Epoch 63/100\n",
      "117/117 [==============================] - 0s 2ms/step - loss: 0.0283 - mean_squared_error: 0.0283 - mean_absolute_error: 0.1256\n",
      "Epoch 64/100\n",
      "117/117 [==============================] - 0s 2ms/step - loss: 0.0281 - mean_squared_error: 0.0281 - mean_absolute_error: 0.1249\n",
      "Epoch 65/100\n",
      "117/117 [==============================] - 0s 2ms/step - loss: 0.0274 - mean_squared_error: 0.0274 - mean_absolute_error: 0.1238\n",
      "Epoch 66/100\n",
      "117/117 [==============================] - 0s 2ms/step - loss: 0.0280 - mean_squared_error: 0.0280 - mean_absolute_error: 0.1257\n",
      "Epoch 67/100\n",
      "117/117 [==============================] - 0s 2ms/step - loss: 0.0275 - mean_squared_error: 0.0275 - mean_absolute_error: 0.1232\n",
      "Epoch 68/100\n",
      "117/117 [==============================] - 0s 2ms/step - loss: 0.0277 - mean_squared_error: 0.0277 - mean_absolute_error: 0.1241\n",
      "Epoch 69/100\n",
      "117/117 [==============================] - 0s 2ms/step - loss: 0.0272 - mean_squared_error: 0.0272 - mean_absolute_error: 0.1231\n",
      "Epoch 70/100\n",
      "117/117 [==============================] - 0s 2ms/step - loss: 0.0272 - mean_squared_error: 0.0272 - mean_absolute_error: 0.1228\n",
      "Epoch 71/100\n",
      "117/117 [==============================] - 0s 2ms/step - loss: 0.0269 - mean_squared_error: 0.0269 - mean_absolute_error: 0.1222\n",
      "Epoch 72/100\n",
      "117/117 [==============================] - 0s 2ms/step - loss: 0.0267 - mean_squared_error: 0.0267 - mean_absolute_error: 0.1222\n",
      "Epoch 73/100\n",
      "117/117 [==============================] - 0s 2ms/step - loss: 0.0267 - mean_squared_error: 0.0267 - mean_absolute_error: 0.1218\n",
      "Epoch 74/100\n",
      "117/117 [==============================] - 0s 2ms/step - loss: 0.0264 - mean_squared_error: 0.0265 - mean_absolute_error: 0.1213\n",
      "Epoch 75/100\n",
      "117/117 [==============================] - 0s 2ms/step - loss: 0.0264 - mean_squared_error: 0.0264 - mean_absolute_error: 0.1212\n",
      "Epoch 76/100\n",
      "117/117 [==============================] - 0s 2ms/step - loss: 0.0265 - mean_squared_error: 0.0265 - mean_absolute_error: 0.1211\n",
      "Epoch 77/100\n",
      "117/117 [==============================] - 0s 2ms/step - loss: 0.0257 - mean_squared_error: 0.0257 - mean_absolute_error: 0.1197\n",
      "Epoch 78/100\n",
      "117/117 [==============================] - 0s 2ms/step - loss: 0.0261 - mean_squared_error: 0.0261 - mean_absolute_error: 0.1202\n",
      "Epoch 79/100\n",
      "117/117 [==============================] - 0s 2ms/step - loss: 0.0261 - mean_squared_error: 0.0261 - mean_absolute_error: 0.1206\n",
      "Epoch 80/100\n",
      "117/117 [==============================] - 0s 2ms/step - loss: 0.0252 - mean_squared_error: 0.0252 - mean_absolute_error: 0.1182\n",
      "Epoch 81/100\n",
      "117/117 [==============================] - 0s 2ms/step - loss: 0.0260 - mean_squared_error: 0.0260 - mean_absolute_error: 0.1199\n",
      "Epoch 82/100\n",
      "117/117 [==============================] - 0s 2ms/step - loss: 0.0260 - mean_squared_error: 0.0260 - mean_absolute_error: 0.1200\n",
      "Epoch 83/100\n",
      "117/117 [==============================] - 0s 2ms/step - loss: 0.0257 - mean_squared_error: 0.0257 - mean_absolute_error: 0.1196\n",
      "Epoch 84/100\n",
      "117/117 [==============================] - 0s 3ms/step - loss: 0.0254 - mean_squared_error: 0.0254 - mean_absolute_error: 0.1188\n",
      "Epoch 85/100\n",
      "117/117 [==============================] - 0s 2ms/step - loss: 0.0251 - mean_squared_error: 0.0251 - mean_absolute_error: 0.1184\n",
      "Epoch 86/100\n",
      "117/117 [==============================] - 0s 2ms/step - loss: 0.0250 - mean_squared_error: 0.0250 - mean_absolute_error: 0.1183\n",
      "Epoch 87/100\n",
      "117/117 [==============================] - 0s 2ms/step - loss: 0.0249 - mean_squared_error: 0.0249 - mean_absolute_error: 0.1165\n",
      "Epoch 88/100\n",
      "117/117 [==============================] - 0s 2ms/step - loss: 0.0247 - mean_squared_error: 0.0246 - mean_absolute_error: 0.1174\n",
      "Epoch 89/100\n",
      "117/117 [==============================] - 0s 2ms/step - loss: 0.0242 - mean_squared_error: 0.0242 - mean_absolute_error: 0.1157\n",
      "Epoch 90/100\n",
      "117/117 [==============================] - 0s 2ms/step - loss: 0.0246 - mean_squared_error: 0.0246 - mean_absolute_error: 0.1164\n",
      "Epoch 91/100\n",
      "117/117 [==============================] - 0s 2ms/step - loss: 0.0244 - mean_squared_error: 0.0244 - mean_absolute_error: 0.1164\n",
      "Epoch 92/100\n",
      "117/117 [==============================] - 0s 2ms/step - loss: 0.0241 - mean_squared_error: 0.0242 - mean_absolute_error: 0.1162\n",
      "Epoch 93/100\n",
      "117/117 [==============================] - 0s 2ms/step - loss: 0.0242 - mean_squared_error: 0.0242 - mean_absolute_error: 0.1157\n",
      "Epoch 94/100\n",
      "117/117 [==============================] - 0s 2ms/step - loss: 0.0241 - mean_squared_error: 0.0241 - mean_absolute_error: 0.1158\n",
      "Epoch 95/100\n",
      "117/117 [==============================] - 0s 2ms/step - loss: 0.0236 - mean_squared_error: 0.0235 - mean_absolute_error: 0.1138\n",
      "Epoch 96/100\n",
      "117/117 [==============================] - 0s 2ms/step - loss: 0.0239 - mean_squared_error: 0.0239 - mean_absolute_error: 0.1148\n",
      "Epoch 97/100\n",
      "117/117 [==============================] - 0s 2ms/step - loss: 0.0235 - mean_squared_error: 0.0235 - mean_absolute_error: 0.1144\n",
      "Epoch 98/100\n",
      "117/117 [==============================] - 0s 2ms/step - loss: 0.0236 - mean_squared_error: 0.0236 - mean_absolute_error: 0.1141\n",
      "Epoch 99/100\n",
      "117/117 [==============================] - 0s 3ms/step - loss: 0.0236 - mean_squared_error: 0.0236 - mean_absolute_error: 0.1145\n",
      "Epoch 100/100\n",
      "117/117 [==============================] - 0s 2ms/step - loss: 0.0235 - mean_squared_error: 0.0234 - mean_absolute_error: 0.1137\n"
     ]
    }
   ],
   "source": [
    "n_epochs = 100\n",
    "history = model.fit(trainX, trainY, epochs=n_epochs, batch_size=16, verbose=True)"
   ],
   "metadata": {
    "collapsed": false,
    "ExecuteTime": {
     "end_time": "2024-05-01T20:26:27.585118Z",
     "start_time": "2024-05-01T20:25:58.467795300Z"
    }
   },
   "id": "317552fa71ebeb6c"
  },
  {
   "cell_type": "code",
   "execution_count": 36,
   "outputs": [],
   "source": [
    "from datetime import datetime\n",
    "\n",
    "now = datetime.now() \n",
    "timestamp = now.strftime(\"%Y-%m-%d_%H-%M-%S\")\n",
    "\n",
    "filename = f\"../reports/{timestamp}_train_metrics.txt\"\n",
    "\n",
    "with open(filename, \"w\") as file:\n",
    "    file.write(\"Epoch\\t\" + \"\\t\".join(history.history.keys()) + \"\\n\")\n",
    "    for i in range(n_epochs):\n",
    "        file.write(f\"{i+1}\\t\" + \"\\t\".join(str(history.history[metric][i]) for metric in history.history.keys()) + \"\\n\")\n",
    "        \n",
    "test_metrics = model.evaluate(testX, testY, verbose=0)\n",
    "test_filename = f\"../reports/{timestamp}_metrics.txt\"\n",
    "\n",
    "with open(test_filename, \"w\") as file:\n",
    "    file.write(\"Metric\\tValue\\n\")\n",
    "    for metric, value in zip(model.metrics_names, test_metrics):\n",
    "        file.write(f\"{metric}\\t{value}\\n\")"
   ],
   "metadata": {
    "collapsed": false,
    "ExecuteTime": {
     "end_time": "2024-05-01T20:26:27.925118700Z",
     "start_time": "2024-05-01T20:26:27.587119600Z"
    }
   },
   "id": "c17f14832e80d9d6"
  },
  {
   "cell_type": "code",
   "execution_count": 37,
   "outputs": [
    {
     "name": "stdout",
     "output_type": "stream",
     "text": [
      "INFO:tensorflow:Assets written to: ../models/basic_model\\assets\n"
     ]
    }
   ],
   "source": [
    "model.save(f\"../models/basic_model.h5\")\n",
    "model.save(f\"../models/basic_model\")"
   ],
   "metadata": {
    "collapsed": false,
    "ExecuteTime": {
     "end_time": "2024-05-01T20:26:30.570117800Z",
     "start_time": "2024-05-01T20:26:27.927118Z"
    }
   },
   "id": "a814c1872ee94fcd"
  }
 ],
 "metadata": {
  "kernelspec": {
   "display_name": "Python 3",
   "language": "python",
   "name": "python3"
  },
  "language_info": {
   "codemirror_mode": {
    "name": "ipython",
    "version": 2
   },
   "file_extension": ".py",
   "mimetype": "text/x-python",
   "name": "python",
   "nbconvert_exporter": "python",
   "pygments_lexer": "ipython2",
   "version": "2.7.6"
  }
 },
 "nbformat": 4,
 "nbformat_minor": 5
}
