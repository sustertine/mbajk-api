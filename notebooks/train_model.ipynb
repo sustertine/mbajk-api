{
 "cells": [
  {
   "cell_type": "code",
   "execution_count": 29,
   "id": "initial_id",
   "metadata": {
    "collapsed": true,
    "ExecuteTime": {
     "end_time": "2024-05-02T13:16:51.413710400Z",
     "start_time": "2024-05-02T13:16:51.338711Z"
    }
   },
   "outputs": [],
   "source": [
    "import pandas as pd\n",
    "import numpy as np\n",
    "from keras.losses import MeanAbsoluteError, MeanSquaredError\n",
    "from keras.models import Sequential\n",
    "from keras.layers import LSTM, Dense\n",
    "from keras.optimizers import Adam\n",
    "from sklearn.model_selection import train_test_split"
   ]
  },
  {
   "cell_type": "code",
   "execution_count": 30,
   "outputs": [],
   "source": [
    "df = pd.read_csv('../data/processed/mbajk_dataset.csv')\n",
    "df['date'] = pd.to_datetime(df['date'])\n",
    "df.sort_values(by='date', inplace=True)"
   ],
   "metadata": {
    "collapsed": false,
    "ExecuteTime": {
     "end_time": "2024-05-02T13:16:51.435712300Z",
     "start_time": "2024-05-02T13:16:51.372711500Z"
    }
   },
   "id": "87644f1237ccf679"
  },
  {
   "cell_type": "code",
   "execution_count": 31,
   "outputs": [
    {
     "name": "stderr",
     "output_type": "stream",
     "text": [
      "C:\\Users\\Tine Šuster\\AppData\\Local\\Temp\\ipykernel_16248\\210845773.py:2: FutureWarning: 'H' is deprecated and will be removed in a future version, please use 'h' instead.\n",
      "  df = df.resample('H').mean()\n"
     ]
    }
   ],
   "source": [
    "df.set_index('date', inplace=True)\n",
    "df = df.resample('H').mean()\n",
    "df.reset_index(inplace=True)\n",
    "df.drop('date', inplace=True, axis=1)\n",
    "df.dropna(inplace=True)"
   ],
   "metadata": {
    "collapsed": false,
    "ExecuteTime": {
     "end_time": "2024-05-02T13:16:51.458712200Z",
     "start_time": "2024-05-02T13:16:51.434713200Z"
    }
   },
   "id": "e9646a8d11db151b"
  },
  {
   "cell_type": "code",
   "execution_count": 32,
   "outputs": [
    {
     "data": {
      "text/plain": "Index(['temperature', 'dew_point', 'apparent_temperature', 'surface_pressure',\n       'available_bike_stands', 'lagged_available_bike_stands',\n       'rolling_mean_bike_stands', 'rolling_std_bike_stands',\n       'diff_available_bike_stands', 'temperature_diff'],\n      dtype='object')"
     },
     "execution_count": 32,
     "metadata": {},
     "output_type": "execute_result"
    }
   ],
   "source": [
    "df.columns"
   ],
   "metadata": {
    "collapsed": false,
    "ExecuteTime": {
     "end_time": "2024-05-02T13:16:51.469730500Z",
     "start_time": "2024-05-02T13:16:51.458712200Z"
    }
   },
   "id": "6c04fcc149379a52"
  },
  {
   "cell_type": "code",
   "execution_count": 33,
   "outputs": [],
   "source": [
    "def create_dataset(dataset, look_back=1, look_forward=5):\n",
    "    dataX, dataY = [], []\n",
    "    for i in range(len(dataset)-look_back-look_forward):\n",
    "        a = dataset.iloc[i:(i+look_back), :]\n",
    "        dataX.append(a)\n",
    "        \n",
    "        dataY.append(dataset.iloc[i + look_back:i + look_back + look_forward]['available_bike_stands'])\n",
    "    return np.array(dataX), np.array(dataY)\n",
    "\n",
    "look_back = 1\n",
    "look_forward = 7\n",
    "dataX, dataY = create_dataset(df, look_back, look_forward)"
   ],
   "metadata": {
    "collapsed": false,
    "ExecuteTime": {
     "end_time": "2024-05-02T13:16:52.570651900Z",
     "start_time": "2024-05-02T13:16:51.465711Z"
    }
   },
   "id": "bfcba14ce069a774"
  },
  {
   "cell_type": "code",
   "execution_count": 34,
   "outputs": [],
   "source": [
    "trainX, testX, trainY, testY = train_test_split(dataX, dataY, test_size=0.2, random_state=1234)"
   ],
   "metadata": {
    "collapsed": false,
    "ExecuteTime": {
     "end_time": "2024-05-02T13:16:52.587650300Z",
     "start_time": "2024-05-02T13:16:52.571650500Z"
    }
   },
   "id": "d9f46f5a7bdee9a6"
  },
  {
   "cell_type": "code",
   "execution_count": 35,
   "outputs": [
    {
     "name": "stdout",
     "output_type": "stream",
     "text": [
      "Model: \"sequential_3\"\n",
      "_________________________________________________________________\n",
      " Layer (type)                Output Shape              Param #   \n",
      "=================================================================\n",
      " lstm_6 (LSTM)               (None, 1, 100)            44400     \n",
      "                                                                 \n",
      " dense_6 (Dense)             (None, 1, 100)            10100     \n",
      "                                                                 \n",
      " lstm_7 (LSTM)               (None, 100)               80400     \n",
      "                                                                 \n",
      " dense_7 (Dense)             (None, 7)                 707       \n",
      "                                                                 \n",
      "=================================================================\n",
      "Total params: 135,607\n",
      "Trainable params: 135,607\n",
      "Non-trainable params: 0\n",
      "_________________________________________________________________\n"
     ]
    }
   ],
   "source": [
    "model = Sequential()\n",
    "model.add(LSTM(100, activation='relu', input_shape=(trainX.shape[1], trainX.shape[2]), return_sequences=True))\n",
    "model.add(Dense(100, activation='relu'))\n",
    "model.add(LSTM(100, activation='relu'))\n",
    "model.add(Dense(7))\n",
    "model.compile(optimizer=Adam(learning_rate=0.001), loss=MeanSquaredError(),metrics=[MeanSquaredError(), MeanAbsoluteError()])\n",
    "model.summary()"
   ],
   "metadata": {
    "collapsed": false,
    "ExecuteTime": {
     "end_time": "2024-05-02T13:16:52.732650700Z",
     "start_time": "2024-05-02T13:16:52.587650300Z"
    }
   },
   "id": "71a10dc021f10aad"
  },
  {
   "cell_type": "code",
   "execution_count": 36,
   "outputs": [],
   "source": [
    "n_epochs = 100\n",
    "# history = model.fit(trainX, trainY, epochs=n_epochs, batch_size=16, verbose=True)"
   ],
   "metadata": {
    "collapsed": false,
    "ExecuteTime": {
     "end_time": "2024-05-02T13:16:52.771191900Z",
     "start_time": "2024-05-02T13:16:52.727653400Z"
    }
   },
   "id": "317552fa71ebeb6c"
  },
  {
   "cell_type": "code",
   "execution_count": 37,
   "outputs": [
    {
     "name": "stdout",
     "output_type": "stream",
     "text": [
      "Epoch 1/100\n",
      "146/146 [==============================] - 1s 2ms/step - loss: 0.3606 - mean_squared_error: 0.3606 - mean_absolute_error: 0.5248\n",
      "Epoch 2/100\n",
      "146/146 [==============================] - 0s 2ms/step - loss: 0.1268 - mean_squared_error: 0.1268 - mean_absolute_error: 0.2915\n",
      "Epoch 3/100\n",
      "146/146 [==============================] - 0s 2ms/step - loss: 0.0667 - mean_squared_error: 0.0667 - mean_absolute_error: 0.2119\n",
      "Epoch 4/100\n",
      "146/146 [==============================] - 0s 2ms/step - loss: 0.0613 - mean_squared_error: 0.0613 - mean_absolute_error: 0.2017\n",
      "Epoch 5/100\n",
      "146/146 [==============================] - 0s 2ms/step - loss: 0.0589 - mean_squared_error: 0.0589 - mean_absolute_error: 0.1964\n",
      "Epoch 6/100\n",
      "146/146 [==============================] - 0s 2ms/step - loss: 0.0571 - mean_squared_error: 0.0571 - mean_absolute_error: 0.1926\n",
      "Epoch 7/100\n",
      "146/146 [==============================] - 0s 2ms/step - loss: 0.0556 - mean_squared_error: 0.0556 - mean_absolute_error: 0.1898\n",
      "Epoch 8/100\n",
      "146/146 [==============================] - 0s 2ms/step - loss: 0.0544 - mean_squared_error: 0.0544 - mean_absolute_error: 0.1873\n",
      "Epoch 9/100\n",
      "146/146 [==============================] - 0s 2ms/step - loss: 0.0532 - mean_squared_error: 0.0532 - mean_absolute_error: 0.1848\n",
      "Epoch 10/100\n",
      "146/146 [==============================] - 0s 2ms/step - loss: 0.0524 - mean_squared_error: 0.0524 - mean_absolute_error: 0.1831\n",
      "Epoch 11/100\n",
      "146/146 [==============================] - 0s 2ms/step - loss: 0.0516 - mean_squared_error: 0.0516 - mean_absolute_error: 0.1815\n",
      "Epoch 12/100\n",
      "146/146 [==============================] - 0s 2ms/step - loss: 0.0510 - mean_squared_error: 0.0510 - mean_absolute_error: 0.1802\n",
      "Epoch 13/100\n",
      "146/146 [==============================] - 0s 2ms/step - loss: 0.0508 - mean_squared_error: 0.0508 - mean_absolute_error: 0.1796\n",
      "Epoch 14/100\n",
      "146/146 [==============================] - 0s 2ms/step - loss: 0.0501 - mean_squared_error: 0.0501 - mean_absolute_error: 0.1782\n",
      "Epoch 15/100\n",
      "146/146 [==============================] - 0s 2ms/step - loss: 0.0498 - mean_squared_error: 0.0498 - mean_absolute_error: 0.1772\n",
      "Epoch 16/100\n",
      "146/146 [==============================] - 0s 2ms/step - loss: 0.0495 - mean_squared_error: 0.0495 - mean_absolute_error: 0.1766\n",
      "Epoch 17/100\n",
      "146/146 [==============================] - 0s 2ms/step - loss: 0.0492 - mean_squared_error: 0.0492 - mean_absolute_error: 0.1760\n",
      "Epoch 18/100\n",
      "146/146 [==============================] - 0s 2ms/step - loss: 0.0489 - mean_squared_error: 0.0489 - mean_absolute_error: 0.1752\n",
      "Epoch 19/100\n",
      "146/146 [==============================] - 0s 2ms/step - loss: 0.0487 - mean_squared_error: 0.0487 - mean_absolute_error: 0.1748\n",
      "Epoch 20/100\n",
      "146/146 [==============================] - 0s 2ms/step - loss: 0.0484 - mean_squared_error: 0.0484 - mean_absolute_error: 0.1739\n",
      "Epoch 21/100\n",
      "146/146 [==============================] - 0s 2ms/step - loss: 0.0483 - mean_squared_error: 0.0483 - mean_absolute_error: 0.1732\n",
      "Epoch 22/100\n",
      "146/146 [==============================] - 0s 2ms/step - loss: 0.0481 - mean_squared_error: 0.0481 - mean_absolute_error: 0.1731\n",
      "Epoch 23/100\n",
      "146/146 [==============================] - 0s 2ms/step - loss: 0.0479 - mean_squared_error: 0.0479 - mean_absolute_error: 0.1726\n",
      "Epoch 24/100\n",
      "146/146 [==============================] - 0s 2ms/step - loss: 0.0477 - mean_squared_error: 0.0477 - mean_absolute_error: 0.1720\n",
      "Epoch 25/100\n",
      "146/146 [==============================] - 0s 2ms/step - loss: 0.0475 - mean_squared_error: 0.0475 - mean_absolute_error: 0.1716\n",
      "Epoch 26/100\n",
      "146/146 [==============================] - 0s 2ms/step - loss: 0.0474 - mean_squared_error: 0.0474 - mean_absolute_error: 0.1711\n",
      "Epoch 27/100\n",
      "146/146 [==============================] - 0s 2ms/step - loss: 0.0472 - mean_squared_error: 0.0472 - mean_absolute_error: 0.1707\n",
      "Epoch 28/100\n",
      "146/146 [==============================] - 0s 2ms/step - loss: 0.0471 - mean_squared_error: 0.0471 - mean_absolute_error: 0.1701\n",
      "Epoch 29/100\n",
      "146/146 [==============================] - 0s 2ms/step - loss: 0.0469 - mean_squared_error: 0.0469 - mean_absolute_error: 0.1700\n",
      "Epoch 30/100\n",
      "146/146 [==============================] - 0s 2ms/step - loss: 0.0467 - mean_squared_error: 0.0467 - mean_absolute_error: 0.1692\n",
      "Epoch 31/100\n",
      "146/146 [==============================] - 0s 2ms/step - loss: 0.0465 - mean_squared_error: 0.0465 - mean_absolute_error: 0.1690\n",
      "Epoch 32/100\n",
      "146/146 [==============================] - 0s 2ms/step - loss: 0.0464 - mean_squared_error: 0.0464 - mean_absolute_error: 0.1687\n",
      "Epoch 33/100\n",
      "146/146 [==============================] - 0s 2ms/step - loss: 0.0463 - mean_squared_error: 0.0463 - mean_absolute_error: 0.1684\n",
      "Epoch 34/100\n",
      "146/146 [==============================] - 0s 2ms/step - loss: 0.0461 - mean_squared_error: 0.0461 - mean_absolute_error: 0.1676\n",
      "Epoch 35/100\n",
      "146/146 [==============================] - 0s 2ms/step - loss: 0.0459 - mean_squared_error: 0.0459 - mean_absolute_error: 0.1678\n",
      "Epoch 36/100\n",
      "146/146 [==============================] - 0s 2ms/step - loss: 0.0457 - mean_squared_error: 0.0457 - mean_absolute_error: 0.1670\n",
      "Epoch 37/100\n",
      "146/146 [==============================] - 0s 2ms/step - loss: 0.0456 - mean_squared_error: 0.0456 - mean_absolute_error: 0.1668\n",
      "Epoch 38/100\n",
      "146/146 [==============================] - 0s 2ms/step - loss: 0.0454 - mean_squared_error: 0.0454 - mean_absolute_error: 0.1662\n",
      "Epoch 39/100\n",
      "146/146 [==============================] - 0s 2ms/step - loss: 0.0454 - mean_squared_error: 0.0454 - mean_absolute_error: 0.1659\n",
      "Epoch 40/100\n",
      "146/146 [==============================] - 0s 2ms/step - loss: 0.0452 - mean_squared_error: 0.0452 - mean_absolute_error: 0.1656\n",
      "Epoch 41/100\n",
      "146/146 [==============================] - 0s 2ms/step - loss: 0.0451 - mean_squared_error: 0.0451 - mean_absolute_error: 0.1651\n",
      "Epoch 42/100\n",
      "146/146 [==============================] - 0s 2ms/step - loss: 0.0450 - mean_squared_error: 0.0450 - mean_absolute_error: 0.1654\n",
      "Epoch 43/100\n",
      "146/146 [==============================] - 0s 2ms/step - loss: 0.0448 - mean_squared_error: 0.0448 - mean_absolute_error: 0.1648\n",
      "Epoch 44/100\n",
      "146/146 [==============================] - 0s 2ms/step - loss: 0.0447 - mean_squared_error: 0.0447 - mean_absolute_error: 0.1641\n",
      "Epoch 45/100\n",
      "146/146 [==============================] - 0s 2ms/step - loss: 0.0446 - mean_squared_error: 0.0446 - mean_absolute_error: 0.1640\n",
      "Epoch 46/100\n",
      "146/146 [==============================] - 0s 2ms/step - loss: 0.0445 - mean_squared_error: 0.0445 - mean_absolute_error: 0.1638\n",
      "Epoch 47/100\n",
      "146/146 [==============================] - 0s 2ms/step - loss: 0.0443 - mean_squared_error: 0.0443 - mean_absolute_error: 0.1634\n",
      "Epoch 48/100\n",
      "146/146 [==============================] - 0s 2ms/step - loss: 0.0442 - mean_squared_error: 0.0442 - mean_absolute_error: 0.1631\n",
      "Epoch 49/100\n",
      "146/146 [==============================] - 0s 2ms/step - loss: 0.0441 - mean_squared_error: 0.0441 - mean_absolute_error: 0.1628\n",
      "Epoch 50/100\n",
      "146/146 [==============================] - 0s 2ms/step - loss: 0.0440 - mean_squared_error: 0.0440 - mean_absolute_error: 0.1625\n",
      "Epoch 51/100\n",
      "146/146 [==============================] - 0s 2ms/step - loss: 0.0439 - mean_squared_error: 0.0439 - mean_absolute_error: 0.1624\n",
      "Epoch 52/100\n",
      "146/146 [==============================] - 0s 2ms/step - loss: 0.0438 - mean_squared_error: 0.0438 - mean_absolute_error: 0.1617\n",
      "Epoch 53/100\n",
      "146/146 [==============================] - 0s 2ms/step - loss: 0.0436 - mean_squared_error: 0.0436 - mean_absolute_error: 0.1619\n",
      "Epoch 54/100\n",
      "146/146 [==============================] - 0s 2ms/step - loss: 0.0435 - mean_squared_error: 0.0435 - mean_absolute_error: 0.1613\n",
      "Epoch 55/100\n",
      "146/146 [==============================] - 0s 2ms/step - loss: 0.0435 - mean_squared_error: 0.0435 - mean_absolute_error: 0.1613\n",
      "Epoch 56/100\n",
      "146/146 [==============================] - 0s 2ms/step - loss: 0.0434 - mean_squared_error: 0.0434 - mean_absolute_error: 0.1611\n",
      "Epoch 57/100\n",
      "146/146 [==============================] - 0s 2ms/step - loss: 0.0434 - mean_squared_error: 0.0434 - mean_absolute_error: 0.1611\n",
      "Epoch 58/100\n",
      "146/146 [==============================] - 0s 2ms/step - loss: 0.0432 - mean_squared_error: 0.0432 - mean_absolute_error: 0.1605\n",
      "Epoch 59/100\n",
      "146/146 [==============================] - 0s 2ms/step - loss: 0.0431 - mean_squared_error: 0.0431 - mean_absolute_error: 0.1606\n",
      "Epoch 60/100\n",
      "146/146 [==============================] - 0s 2ms/step - loss: 0.0430 - mean_squared_error: 0.0430 - mean_absolute_error: 0.1601\n",
      "Epoch 61/100\n",
      "146/146 [==============================] - 0s 2ms/step - loss: 0.0430 - mean_squared_error: 0.0430 - mean_absolute_error: 0.1598\n",
      "Epoch 62/100\n",
      "146/146 [==============================] - 0s 2ms/step - loss: 0.0431 - mean_squared_error: 0.0431 - mean_absolute_error: 0.1604\n",
      "Epoch 63/100\n",
      "146/146 [==============================] - 0s 2ms/step - loss: 0.0427 - mean_squared_error: 0.0427 - mean_absolute_error: 0.1595\n",
      "Epoch 64/100\n",
      "146/146 [==============================] - 0s 2ms/step - loss: 0.0428 - mean_squared_error: 0.0428 - mean_absolute_error: 0.1593\n",
      "Epoch 65/100\n",
      "146/146 [==============================] - 0s 2ms/step - loss: 0.0427 - mean_squared_error: 0.0427 - mean_absolute_error: 0.1594\n",
      "Epoch 66/100\n",
      "146/146 [==============================] - 0s 2ms/step - loss: 0.0428 - mean_squared_error: 0.0428 - mean_absolute_error: 0.1592\n",
      "Epoch 67/100\n",
      "146/146 [==============================] - 0s 2ms/step - loss: 0.0425 - mean_squared_error: 0.0425 - mean_absolute_error: 0.1589\n",
      "Epoch 68/100\n",
      "146/146 [==============================] - 0s 2ms/step - loss: 0.0428 - mean_squared_error: 0.0428 - mean_absolute_error: 0.1597\n",
      "Epoch 69/100\n",
      "146/146 [==============================] - 0s 2ms/step - loss: 0.0425 - mean_squared_error: 0.0425 - mean_absolute_error: 0.1587\n",
      "Epoch 70/100\n",
      "146/146 [==============================] - 0s 2ms/step - loss: 0.0423 - mean_squared_error: 0.0423 - mean_absolute_error: 0.1585\n",
      "Epoch 71/100\n",
      "146/146 [==============================] - 0s 2ms/step - loss: 0.0425 - mean_squared_error: 0.0425 - mean_absolute_error: 0.1590\n",
      "Epoch 72/100\n",
      "146/146 [==============================] - 0s 2ms/step - loss: 0.0422 - mean_squared_error: 0.0422 - mean_absolute_error: 0.1580\n",
      "Epoch 73/100\n",
      "146/146 [==============================] - 0s 2ms/step - loss: 0.0421 - mean_squared_error: 0.0421 - mean_absolute_error: 0.1577\n",
      "Epoch 74/100\n",
      "146/146 [==============================] - 0s 2ms/step - loss: 0.0421 - mean_squared_error: 0.0421 - mean_absolute_error: 0.1579\n",
      "Epoch 75/100\n",
      "146/146 [==============================] - 0s 2ms/step - loss: 0.0423 - mean_squared_error: 0.0423 - mean_absolute_error: 0.1584\n",
      "Epoch 76/100\n",
      "146/146 [==============================] - 0s 2ms/step - loss: 0.0420 - mean_squared_error: 0.0420 - mean_absolute_error: 0.1575\n",
      "Epoch 77/100\n",
      "146/146 [==============================] - 0s 2ms/step - loss: 0.0420 - mean_squared_error: 0.0420 - mean_absolute_error: 0.1577\n",
      "Epoch 78/100\n",
      "146/146 [==============================] - 0s 2ms/step - loss: 0.0420 - mean_squared_error: 0.0420 - mean_absolute_error: 0.1576\n",
      "Epoch 79/100\n",
      "146/146 [==============================] - 0s 2ms/step - loss: 0.0419 - mean_squared_error: 0.0419 - mean_absolute_error: 0.1574\n",
      "Epoch 80/100\n",
      "146/146 [==============================] - 0s 2ms/step - loss: 0.0417 - mean_squared_error: 0.0417 - mean_absolute_error: 0.1571\n",
      "Epoch 81/100\n",
      "146/146 [==============================] - 0s 2ms/step - loss: 0.0418 - mean_squared_error: 0.0418 - mean_absolute_error: 0.1570\n",
      "Epoch 82/100\n",
      "146/146 [==============================] - 0s 2ms/step - loss: 0.0417 - mean_squared_error: 0.0417 - mean_absolute_error: 0.1571\n",
      "Epoch 83/100\n",
      "146/146 [==============================] - 0s 2ms/step - loss: 0.0415 - mean_squared_error: 0.0415 - mean_absolute_error: 0.1566\n",
      "Epoch 84/100\n",
      "146/146 [==============================] - 0s 2ms/step - loss: 0.0416 - mean_squared_error: 0.0416 - mean_absolute_error: 0.1570\n",
      "Epoch 85/100\n",
      "146/146 [==============================] - 0s 2ms/step - loss: 0.0415 - mean_squared_error: 0.0415 - mean_absolute_error: 0.1566\n",
      "Epoch 86/100\n",
      "146/146 [==============================] - 0s 2ms/step - loss: 0.0415 - mean_squared_error: 0.0415 - mean_absolute_error: 0.1565\n",
      "Epoch 87/100\n",
      "146/146 [==============================] - 0s 2ms/step - loss: 0.0414 - mean_squared_error: 0.0414 - mean_absolute_error: 0.1562\n",
      "Epoch 88/100\n",
      "146/146 [==============================] - 0s 2ms/step - loss: 0.0413 - mean_squared_error: 0.0413 - mean_absolute_error: 0.1562\n",
      "Epoch 89/100\n",
      "146/146 [==============================] - 0s 2ms/step - loss: 0.0413 - mean_squared_error: 0.0413 - mean_absolute_error: 0.1560\n",
      "Epoch 90/100\n",
      "146/146 [==============================] - 0s 2ms/step - loss: 0.0412 - mean_squared_error: 0.0412 - mean_absolute_error: 0.1556\n",
      "Epoch 91/100\n",
      "146/146 [==============================] - 0s 2ms/step - loss: 0.0414 - mean_squared_error: 0.0414 - mean_absolute_error: 0.1563\n",
      "Epoch 92/100\n",
      "146/146 [==============================] - 0s 2ms/step - loss: 0.0412 - mean_squared_error: 0.0412 - mean_absolute_error: 0.1556\n",
      "Epoch 93/100\n",
      "146/146 [==============================] - 0s 2ms/step - loss: 0.0412 - mean_squared_error: 0.0412 - mean_absolute_error: 0.1558\n",
      "Epoch 94/100\n",
      "146/146 [==============================] - 0s 2ms/step - loss: 0.0410 - mean_squared_error: 0.0410 - mean_absolute_error: 0.1555\n",
      "Epoch 95/100\n",
      "146/146 [==============================] - 0s 2ms/step - loss: 0.0411 - mean_squared_error: 0.0411 - mean_absolute_error: 0.1558\n",
      "Epoch 96/100\n",
      "146/146 [==============================] - 0s 2ms/step - loss: 0.0410 - mean_squared_error: 0.0410 - mean_absolute_error: 0.1551\n",
      "Epoch 97/100\n",
      "146/146 [==============================] - 0s 2ms/step - loss: 0.0409 - mean_squared_error: 0.0409 - mean_absolute_error: 0.1555\n",
      "Epoch 98/100\n",
      "146/146 [==============================] - 0s 2ms/step - loss: 0.0408 - mean_squared_error: 0.0408 - mean_absolute_error: 0.1549\n",
      "Epoch 99/100\n",
      "146/146 [==============================] - 0s 2ms/step - loss: 0.0408 - mean_squared_error: 0.0408 - mean_absolute_error: 0.1549\n",
      "Epoch 100/100\n",
      "146/146 [==============================] - 0s 2ms/step - loss: 0.0408 - mean_squared_error: 0.0408 - mean_absolute_error: 0.1548\n"
     ]
    }
   ],
   "source": [
    "model.compile(optimizer=Adam(learning_rate=0.0001), loss=MeanSquaredError(),metrics=[MeanSquaredError(), MeanAbsoluteError()])\n",
    "history = model.fit(dataX, dataY, epochs=n_epochs, batch_size=16, verbose=True)"
   ],
   "metadata": {
    "collapsed": false,
    "ExecuteTime": {
     "end_time": "2024-05-02T13:17:23.271919700Z",
     "start_time": "2024-05-02T13:16:52.744649500Z"
    }
   },
   "id": "bcedae5378b30ed2"
  },
  {
   "cell_type": "code",
   "execution_count": 38,
   "outputs": [],
   "source": [
    "from datetime import datetime\n",
    "\n",
    "now = datetime.now() \n",
    "timestamp = now.strftime(\"%Y-%m-%d_%H-%M-%S\")\n",
    "\n",
    "filename = f\"../reports/{timestamp}_train_metrics.txt\"\n",
    "\n",
    "with open(filename, \"w\") as file:\n",
    "    file.write(\"Epoch\\t\" + \"\\t\".join(history.history.keys()) + \"\\n\")\n",
    "    for i in range(n_epochs):\n",
    "        file.write(f\"{i+1}\\t\" + \"\\t\".join(str(history.history[metric][i]) for metric in history.history.keys()) + \"\\n\")\n",
    "        \n",
    "test_metrics = model.evaluate(testX, testY, verbose=0)\n",
    "test_filename = f\"../reports/{timestamp}_metrics.txt\"\n",
    "\n",
    "with open(test_filename, \"w\") as file:\n",
    "    file.write(\"Metric\\tValue\\n\")\n",
    "    for metric, value in zip(model.metrics_names, test_metrics):\n",
    "        file.write(f\"{metric}\\t{value}\\n\")"
   ],
   "metadata": {
    "collapsed": false,
    "ExecuteTime": {
     "end_time": "2024-05-02T13:17:23.647915800Z",
     "start_time": "2024-05-02T13:17:23.273915Z"
    }
   },
   "id": "c17f14832e80d9d6"
  },
  {
   "cell_type": "code",
   "execution_count": 40,
   "outputs": [],
   "source": [
    "model.save(f\"../models/basic_model.h5\")\n",
    "# model.save(f\"../models/basic_model\")"
   ],
   "metadata": {
    "collapsed": false,
    "ExecuteTime": {
     "end_time": "2024-05-02T13:17:52.970895800Z",
     "start_time": "2024-05-02T13:17:52.404860800Z"
    }
   },
   "id": "a814c1872ee94fcd"
  }
 ],
 "metadata": {
  "kernelspec": {
   "display_name": "Python 3",
   "language": "python",
   "name": "python3"
  },
  "language_info": {
   "codemirror_mode": {
    "name": "ipython",
    "version": 2
   },
   "file_extension": ".py",
   "mimetype": "text/x-python",
   "name": "python",
   "nbconvert_exporter": "python",
   "pygments_lexer": "ipython2",
   "version": "2.7.6"
  }
 },
 "nbformat": 4,
 "nbformat_minor": 5
}
