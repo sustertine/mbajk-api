{
 "cells": [
  {
   "cell_type": "code",
   "execution_count": 320,
   "id": "initial_id",
   "metadata": {
    "collapsed": true,
    "ExecuteTime": {
     "end_time": "2024-05-09T11:54:15.346399900Z",
     "start_time": "2024-05-09T11:54:15.322399200Z"
    }
   },
   "outputs": [],
   "source": [
    "import pandas as pd\n",
    "from sklearn.base import BaseEstimator, TransformerMixin\n",
    "from sklearn.compose import ColumnTransformer\n",
    "from sklearn.pipeline import Pipeline\n",
    "from sklearn.preprocessing import StandardScaler, MinMaxScaler, PowerTransformer\n",
    "from sklearn import set_config\n",
    "set_config(transform_output = \"pandas\")\n",
    "\n",
    "train = pd.read_csv('../data/processed/train_test/DVORANA TABOR/train.csv')\n",
    "test = pd.read_csv('../data/processed/train_test/DVORANA TABOR/test.csv')"
   ]
  },
  {
   "cell_type": "code",
   "execution_count": 321,
   "outputs": [],
   "source": [
    "class FeatureEngineer(BaseEstimator, TransformerMixin):\n",
    "    def __init__(self):\n",
    "        pass\n",
    "\n",
    "    def fit(self, X, y=None):\n",
    "        return self\n",
    "\n",
    "    def transform(self, X):\n",
    "        X = X.copy()\n",
    "        \n",
    "        X['date'] = pd.to_datetime(X['date'])\n",
    "        X.sort_values(by='date', inplace=True)\n",
    "        X['time_of_day'] = X['date'].dt.hour // 6\n",
    "    \n",
    "        X['day_of_week'] = X['date'].dt.dayofweek\n",
    "        X = pd.get_dummies(X, columns=['time_of_day', 'day_of_week'], drop_first=True)\n",
    "    \n",
    "        X['lagged_available_bike_stands'] = X['available_bike_stands'].shift(1)\n",
    "    \n",
    "        window_size = 7\n",
    "        X['rolling_mean_bike_stands'] = X['available_bike_stands'].rolling(window=window_size).mean()\n",
    "    \n",
    "        X['rolling_std_bike_stands'] = X['available_bike_stands'].rolling(window=window_size).std()\n",
    "    \n",
    "        X['diff_available_bike_stands'] = X['available_bike_stands'].diff()\n",
    "    \n",
    "        X['temperature_diff'] = X['temperature'] - X['apparent_temperature']\n",
    "    \n",
    "        X = X[['date', 'temperature', 'dew_point', 'apparent_temperature',\n",
    "                 'surface_pressure', 'available_bike_stands',\n",
    "                 'lagged_available_bike_stands', 'rolling_mean_bike_stands',\n",
    "                 'rolling_std_bike_stands', 'diff_available_bike_stands',\n",
    "                 'temperature_diff']]\n",
    "\n",
    "        return X.sort_values(by='date').drop(columns='date')"
   ],
   "metadata": {
    "collapsed": false,
    "ExecuteTime": {
     "end_time": "2024-05-09T11:54:15.364397700Z",
     "start_time": "2024-05-09T11:54:15.338399700Z"
    }
   },
   "id": "14474e19ef82d880"
  },
  {
   "cell_type": "code",
   "execution_count": 322,
   "outputs": [],
   "source": [
    "from sklearn.impute import SimpleImputer\n",
    "\n",
    "standard_scaler = StandardScaler()\n",
    "minmax_scaler = MinMaxScaler()\n",
    "\n",
    "standard_features = ['temperature', 'dew_point', 'apparent_temperature', 'surface_pressure']\n",
    "minmax_features = ['lagged_available_bike_stands',\n",
    "                   'rolling_mean_bike_stands',\n",
    "                   'rolling_std_bike_stands', 'diff_available_bike_stands',\n",
    "                   'temperature_diff']\n",
    "target_feature = ['available_bike_stands']\n",
    "\n",
    "column_transformer = ColumnTransformer(\n",
    "    transformers=[\n",
    "        ('standard_scaler', standard_scaler, standard_features),\n",
    "        ('minmax_scaler', minmax_scaler, minmax_features),\n",
    "    ]\n",
    ")\n",
    "\n",
    "pipeline = Pipeline(steps=[\n",
    "    ('feature_engineering', FeatureEngineer()),\n",
    "    ('imputer', SimpleImputer(strategy='mean')),\n",
    "    ('column_transformer', column_transformer),\n",
    "])"
   ],
   "metadata": {
    "collapsed": false,
    "ExecuteTime": {
     "end_time": "2024-05-09T11:54:15.364397700Z",
     "start_time": "2024-05-09T11:54:15.351396100Z"
    }
   },
   "id": "28d7447a6a86a100"
  },
  {
   "cell_type": "code",
   "execution_count": 327,
   "outputs": [
    {
     "data": {
      "text/plain": "   standard_scaler__temperature  standard_scaler__dew_point  \\\n0                     -1.118476                   -1.115176   \n1                     -1.118476                   -1.115176   \n2                     -1.118476                   -1.115176   \n3                     -1.118476                   -1.115176   \n4                     -1.118476                   -1.115176   \n\n   standard_scaler__apparent_temperature  standard_scaler__surface_pressure  \\\n0                              -1.108914                          -1.085295   \n1                              -1.108914                          -1.085295   \n2                              -1.108914                          -1.085295   \n3                              -1.108914                          -1.085295   \n4                              -1.108914                          -1.085295   \n\n   minmax_scaler__lagged_available_bike_stands  \\\n0                                     0.400000   \n1                                     0.526316   \n2                                     0.473684   \n3                                     0.526316   \n4                                     0.578947   \n\n   minmax_scaler__rolling_mean_bike_stands  \\\n0                                   0.3745   \n1                                   0.3745   \n2                                   0.3745   \n3                                   0.3745   \n4                                   0.3745   \n\n   minmax_scaler__rolling_std_bike_stands  \\\n0                                0.247898   \n1                                0.247898   \n2                                0.247898   \n3                                0.247898   \n4                                0.247898   \n\n   minmax_scaler__diff_available_bike_stands  minmax_scaler__temperature_diff  \\\n0                                   0.421053                         0.888889   \n1                                   0.368421                         0.888889   \n2                                   0.473684                         0.888889   \n3                                   0.473684                         0.888889   \n4                                   0.526316                         0.888889   \n\n   available_bike_stands  \n0                     11  \n1                     10  \n2                     11  \n3                     12  \n4                     14  ",
      "text/html": "<div>\n<style scoped>\n    .dataframe tbody tr th:only-of-type {\n        vertical-align: middle;\n    }\n\n    .dataframe tbody tr th {\n        vertical-align: top;\n    }\n\n    .dataframe thead th {\n        text-align: right;\n    }\n</style>\n<table border=\"1\" class=\"dataframe\">\n  <thead>\n    <tr style=\"text-align: right;\">\n      <th></th>\n      <th>standard_scaler__temperature</th>\n      <th>standard_scaler__dew_point</th>\n      <th>standard_scaler__apparent_temperature</th>\n      <th>standard_scaler__surface_pressure</th>\n      <th>minmax_scaler__lagged_available_bike_stands</th>\n      <th>minmax_scaler__rolling_mean_bike_stands</th>\n      <th>minmax_scaler__rolling_std_bike_stands</th>\n      <th>minmax_scaler__diff_available_bike_stands</th>\n      <th>minmax_scaler__temperature_diff</th>\n      <th>available_bike_stands</th>\n    </tr>\n  </thead>\n  <tbody>\n    <tr>\n      <th>0</th>\n      <td>-1.118476</td>\n      <td>-1.115176</td>\n      <td>-1.108914</td>\n      <td>-1.085295</td>\n      <td>0.400000</td>\n      <td>0.3745</td>\n      <td>0.247898</td>\n      <td>0.421053</td>\n      <td>0.888889</td>\n      <td>11</td>\n    </tr>\n    <tr>\n      <th>1</th>\n      <td>-1.118476</td>\n      <td>-1.115176</td>\n      <td>-1.108914</td>\n      <td>-1.085295</td>\n      <td>0.526316</td>\n      <td>0.3745</td>\n      <td>0.247898</td>\n      <td>0.368421</td>\n      <td>0.888889</td>\n      <td>10</td>\n    </tr>\n    <tr>\n      <th>2</th>\n      <td>-1.118476</td>\n      <td>-1.115176</td>\n      <td>-1.108914</td>\n      <td>-1.085295</td>\n      <td>0.473684</td>\n      <td>0.3745</td>\n      <td>0.247898</td>\n      <td>0.473684</td>\n      <td>0.888889</td>\n      <td>11</td>\n    </tr>\n    <tr>\n      <th>3</th>\n      <td>-1.118476</td>\n      <td>-1.115176</td>\n      <td>-1.108914</td>\n      <td>-1.085295</td>\n      <td>0.526316</td>\n      <td>0.3745</td>\n      <td>0.247898</td>\n      <td>0.473684</td>\n      <td>0.888889</td>\n      <td>12</td>\n    </tr>\n    <tr>\n      <th>4</th>\n      <td>-1.118476</td>\n      <td>-1.115176</td>\n      <td>-1.108914</td>\n      <td>-1.085295</td>\n      <td>0.578947</td>\n      <td>0.3745</td>\n      <td>0.247898</td>\n      <td>0.526316</td>\n      <td>0.888889</td>\n      <td>14</td>\n    </tr>\n  </tbody>\n</table>\n</div>"
     },
     "execution_count": 327,
     "metadata": {},
     "output_type": "execute_result"
    }
   ],
   "source": [
    "df = pipeline.fit_transform(train)\n",
    "df[target_feature] = train[target_feature]\n",
    "df.head()"
   ],
   "metadata": {
    "collapsed": false,
    "ExecuteTime": {
     "end_time": "2024-05-09T12:23:16.494790200Z",
     "start_time": "2024-05-09T12:23:16.448791200Z"
    }
   },
   "id": "520a02619ece8038"
  },
  {
   "cell_type": "code",
   "execution_count": 324,
   "outputs": [],
   "source": [
    "# def create_features(df):\n",
    "#     df['date'] = pd.to_datetime(df['date'])\n",
    "#     df.sort_values(by='date', inplace=True)\n",
    "#     df['time_of_day'] = df['date'].dt.hour // 6\n",
    "# \n",
    "#     df['day_of_week'] = df['date'].dt.dayofweek\n",
    "#     df = pd.get_dummies(df, columns=['time_of_day', 'day_of_week'], drop_first=True)\n",
    "# \n",
    "#     df['lagged_available_bike_stands'] = df['available_bike_stands'].shift(1)\n",
    "# \n",
    "#     window_size = 7\n",
    "#     df['rolling_mean_bike_stands'] = df['available_bike_stands'].rolling(window=window_size).mean()\n",
    "# \n",
    "#     df['rolling_std_bike_stands'] = df['available_bike_stands'].rolling(window=window_size).std()\n",
    "# \n",
    "#     df['diff_available_bike_stands'] = df['available_bike_stands'].diff()\n",
    "# \n",
    "#     df['temperature_diff'] = df['temperature'] - df['apparent_temperature']\n",
    "# \n",
    "#     df = df[['date', 'temperature', 'dew_point', 'apparent_temperature',\n",
    "#              'surface_pressure', 'available_bike_stands',\n",
    "#              'lagged_available_bike_stands', 'rolling_mean_bike_stands',\n",
    "#              'rolling_std_bike_stands', 'diff_available_bike_stands',\n",
    "#              'temperature_diff']]\n",
    "# \n",
    "#     return df\n"
   ],
   "metadata": {
    "collapsed": false,
    "ExecuteTime": {
     "end_time": "2024-05-09T11:54:15.435398800Z",
     "start_time": "2024-05-09T11:54:15.398398100Z"
    }
   },
   "id": "35f5f64257c2ade9"
  }
 ],
 "metadata": {
  "kernelspec": {
   "display_name": "Python 3",
   "language": "python",
   "name": "python3"
  },
  "language_info": {
   "codemirror_mode": {
    "name": "ipython",
    "version": 2
   },
   "file_extension": ".py",
   "mimetype": "text/x-python",
   "name": "python",
   "nbconvert_exporter": "python",
   "pygments_lexer": "ipython2",
   "version": "2.7.6"
  }
 },
 "nbformat": 4,
 "nbformat_minor": 5
}
