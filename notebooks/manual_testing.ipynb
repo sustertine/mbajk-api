{
 "cells": [
  {
   "cell_type": "code",
   "execution_count": 6,
   "id": "initial_id",
   "metadata": {
    "collapsed": true,
    "ExecuteTime": {
     "end_time": "2024-05-01T19:28:48.322777400Z",
     "start_time": "2024-05-01T19:28:48.265777500Z"
    }
   },
   "outputs": [
    {
     "data": {
      "text/plain": "   Unnamed: 0                       date  temperature  relative_humidity  \\\n0           0  2023-06-25 19:07:30+00:00         25.1                 45   \n1           1  2023-06-25 20:25:41+00:00         24.2                 43   \n2           2  2023-06-25 20:12:20+00:00         24.2                 43   \n3           3  2023-06-25 19:33:48+00:00         24.2                 43   \n4           4  2023-06-25 19:55:29+00:00         24.2                 43   \n\n   dew_point  apparent_temperature  precipitation_probability  rain  \\\n0       12.4                  24.7                        0.0   0.0   \n1       10.9                  23.3                        NaN   0.0   \n2       10.9                  23.3                        0.0   0.0   \n3       10.9                  23.3                        0.0   0.0   \n4       10.9                  23.3                        NaN   0.0   \n\n   surface_pressure  bike_stands  available_bike_stands  \n0             984.3           22                      8  \n1             984.5           22                      8  \n2             984.5           22                     12  \n3             984.5           22                      7  \n4             984.5           22                      8  ",
      "text/html": "<div>\n<style scoped>\n    .dataframe tbody tr th:only-of-type {\n        vertical-align: middle;\n    }\n\n    .dataframe tbody tr th {\n        vertical-align: top;\n    }\n\n    .dataframe thead th {\n        text-align: right;\n    }\n</style>\n<table border=\"1\" class=\"dataframe\">\n  <thead>\n    <tr style=\"text-align: right;\">\n      <th></th>\n      <th>Unnamed: 0</th>\n      <th>date</th>\n      <th>temperature</th>\n      <th>relative_humidity</th>\n      <th>dew_point</th>\n      <th>apparent_temperature</th>\n      <th>precipitation_probability</th>\n      <th>rain</th>\n      <th>surface_pressure</th>\n      <th>bike_stands</th>\n      <th>available_bike_stands</th>\n    </tr>\n  </thead>\n  <tbody>\n    <tr>\n      <th>0</th>\n      <td>0</td>\n      <td>2023-06-25 19:07:30+00:00</td>\n      <td>25.1</td>\n      <td>45</td>\n      <td>12.4</td>\n      <td>24.7</td>\n      <td>0.0</td>\n      <td>0.0</td>\n      <td>984.3</td>\n      <td>22</td>\n      <td>8</td>\n    </tr>\n    <tr>\n      <th>1</th>\n      <td>1</td>\n      <td>2023-06-25 20:25:41+00:00</td>\n      <td>24.2</td>\n      <td>43</td>\n      <td>10.9</td>\n      <td>23.3</td>\n      <td>NaN</td>\n      <td>0.0</td>\n      <td>984.5</td>\n      <td>22</td>\n      <td>8</td>\n    </tr>\n    <tr>\n      <th>2</th>\n      <td>2</td>\n      <td>2023-06-25 20:12:20+00:00</td>\n      <td>24.2</td>\n      <td>43</td>\n      <td>10.9</td>\n      <td>23.3</td>\n      <td>0.0</td>\n      <td>0.0</td>\n      <td>984.5</td>\n      <td>22</td>\n      <td>12</td>\n    </tr>\n    <tr>\n      <th>3</th>\n      <td>3</td>\n      <td>2023-06-25 19:33:48+00:00</td>\n      <td>24.2</td>\n      <td>43</td>\n      <td>10.9</td>\n      <td>23.3</td>\n      <td>0.0</td>\n      <td>0.0</td>\n      <td>984.5</td>\n      <td>22</td>\n      <td>7</td>\n    </tr>\n    <tr>\n      <th>4</th>\n      <td>4</td>\n      <td>2023-06-25 19:55:29+00:00</td>\n      <td>24.2</td>\n      <td>43</td>\n      <td>10.9</td>\n      <td>23.3</td>\n      <td>NaN</td>\n      <td>0.0</td>\n      <td>984.5</td>\n      <td>22</td>\n      <td>8</td>\n    </tr>\n  </tbody>\n</table>\n</div>"
     },
     "execution_count": 6,
     "metadata": {},
     "output_type": "execute_result"
    }
   ],
   "source": [
    "import pandas as pd\n",
    "\n",
    "df = pd.read_csv('../data/raw/mbajk_dataset.csv')\n",
    "\n",
    "df.head()"
   ]
  }
 ],
 "metadata": {
  "kernelspec": {
   "display_name": "Python 3",
   "language": "python",
   "name": "python3"
  },
  "language_info": {
   "codemirror_mode": {
    "name": "ipython",
    "version": 2
   },
   "file_extension": ".py",
   "mimetype": "text/x-python",
   "name": "python",
   "nbconvert_exporter": "python",
   "pygments_lexer": "ipython2",
   "version": "2.7.6"
  }
 },
 "nbformat": 4,
 "nbformat_minor": 5
}
