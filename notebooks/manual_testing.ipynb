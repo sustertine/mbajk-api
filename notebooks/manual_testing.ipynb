{
 "cells": [
  {
   "cell_type": "code",
   "execution_count": 1,
   "id": "initial_id",
   "metadata": {
    "collapsed": true,
    "ExecuteTime": {
     "end_time": "2024-05-02T10:09:09.300724300Z",
     "start_time": "2024-05-02T10:09:08.786094500Z"
    }
   },
   "outputs": [
    {
     "data": {
      "text/plain": "Index(['Unnamed: 0', 'date', 'temperature', 'relative_humidity', 'dew_point',\n       'apparent_temperature', 'precipitation_probability', 'rain',\n       'surface_pressure', 'bike_stands', 'available_bike_stands'],\n      dtype='object')"
     },
     "execution_count": 1,
     "metadata": {},
     "output_type": "execute_result"
    }
   ],
   "source": [
    "import pandas as pd\n",
    "\n",
    "df = pd.read_csv('../data/raw/mbajk_dataset.csv')\n",
    "\n",
    "df.columns"
   ]
  },
  {
   "cell_type": "code",
   "execution_count": null,
   "outputs": [],
   "source": [
    "# temperature', 'relative_humidity', 'dew_point',\n",
    "# 'apparent_temperature', 'precipitation_probability', 'rain',\n",
    "#  'surface_pressure'"
   ],
   "metadata": {
    "collapsed": false
   },
   "id": "add7742e79312c44"
  },
  {
   "cell_type": "code",
   "execution_count": null,
   "outputs": [],
   "source": [],
   "metadata": {
    "collapsed": false
   },
   "id": "14474e19ef82d880"
  }
 ],
 "metadata": {
  "kernelspec": {
   "display_name": "Python 3",
   "language": "python",
   "name": "python3"
  },
  "language_info": {
   "codemirror_mode": {
    "name": "ipython",
    "version": 2
   },
   "file_extension": ".py",
   "mimetype": "text/x-python",
   "name": "python",
   "nbconvert_exporter": "python",
   "pygments_lexer": "ipython2",
   "version": "2.7.6"
  }
 },
 "nbformat": 4,
 "nbformat_minor": 5
}
