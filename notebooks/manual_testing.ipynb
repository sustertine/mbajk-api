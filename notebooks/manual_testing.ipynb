{
 "cells": [
  {
   "cell_type": "code",
   "execution_count": 2,
   "id": "initial_id",
   "metadata": {
    "collapsed": true,
    "ExecuteTime": {
     "end_time": "2024-05-09T09:57:46.770353100Z",
     "start_time": "2024-05-09T09:57:46.756187800Z"
    }
   },
   "outputs": [],
   "source": [
    "import pandas as pd\n",
    "\n",
    "train = pd.read_csv('../data/processed/train_test/DVORANA TABOR/train.csv')\n",
    "test = pd.read_csv('../data/processed/train_test/DVORANA TABOR/test.csv')"
   ]
  },
  {
   "cell_type": "code",
   "execution_count": 3,
   "outputs": [
    {
     "data": {
      "text/plain": "                  date  temperature  dew_point  apparent_temperature  \\\n0  2024-04-30 13:48:03    -1.115017  -1.114848              -1.11138   \n1  2024-04-30 13:58:09    -1.115017  -1.114848              -1.11138   \n2  2024-05-02 08:44:25    -1.115017  -1.114848              -1.11138   \n3  2024-05-02 09:55:03    -1.115017  -1.114848              -1.11138   \n4  2024-05-02 10:35:59    -1.115017  -1.114848              -1.11138   \n\n   surface_pressure  available_bike_stands  lagged_available_bike_stands  \\\n0         -1.361691               0.723357                      0.587152   \n1         -1.361691               0.682731                      0.723357   \n2         -1.361691               0.723357                      0.682731   \n3         -1.361691               0.761281                      0.723357   \n4         -1.361691               0.830423                      0.761281   \n\n   rolling_mean_bike_stands  rolling_std_bike_stands  \\\n0                  0.581637                 0.083246   \n1                  0.581637                 0.083246   \n2                  0.581637                 0.083246   \n3                  0.581637                 0.083246   \n4                  0.581637                 0.083246   \n\n   diff_available_bike_stands  temperature_diff  \n0                    0.000497         -0.003637  \n1                   -0.040626         -0.003637  \n2                    0.040626         -0.003637  \n3                    0.037924         -0.003637  \n4                    0.069142         -0.003637  ",
      "text/html": "<div>\n<style scoped>\n    .dataframe tbody tr th:only-of-type {\n        vertical-align: middle;\n    }\n\n    .dataframe tbody tr th {\n        vertical-align: top;\n    }\n\n    .dataframe thead th {\n        text-align: right;\n    }\n</style>\n<table border=\"1\" class=\"dataframe\">\n  <thead>\n    <tr style=\"text-align: right;\">\n      <th></th>\n      <th>date</th>\n      <th>temperature</th>\n      <th>dew_point</th>\n      <th>apparent_temperature</th>\n      <th>surface_pressure</th>\n      <th>available_bike_stands</th>\n      <th>lagged_available_bike_stands</th>\n      <th>rolling_mean_bike_stands</th>\n      <th>rolling_std_bike_stands</th>\n      <th>diff_available_bike_stands</th>\n      <th>temperature_diff</th>\n    </tr>\n  </thead>\n  <tbody>\n    <tr>\n      <th>0</th>\n      <td>2024-04-30 13:48:03</td>\n      <td>-1.115017</td>\n      <td>-1.114848</td>\n      <td>-1.11138</td>\n      <td>-1.361691</td>\n      <td>0.723357</td>\n      <td>0.587152</td>\n      <td>0.581637</td>\n      <td>0.083246</td>\n      <td>0.000497</td>\n      <td>-0.003637</td>\n    </tr>\n    <tr>\n      <th>1</th>\n      <td>2024-04-30 13:58:09</td>\n      <td>-1.115017</td>\n      <td>-1.114848</td>\n      <td>-1.11138</td>\n      <td>-1.361691</td>\n      <td>0.682731</td>\n      <td>0.723357</td>\n      <td>0.581637</td>\n      <td>0.083246</td>\n      <td>-0.040626</td>\n      <td>-0.003637</td>\n    </tr>\n    <tr>\n      <th>2</th>\n      <td>2024-05-02 08:44:25</td>\n      <td>-1.115017</td>\n      <td>-1.114848</td>\n      <td>-1.11138</td>\n      <td>-1.361691</td>\n      <td>0.723357</td>\n      <td>0.682731</td>\n      <td>0.581637</td>\n      <td>0.083246</td>\n      <td>0.040626</td>\n      <td>-0.003637</td>\n    </tr>\n    <tr>\n      <th>3</th>\n      <td>2024-05-02 09:55:03</td>\n      <td>-1.115017</td>\n      <td>-1.114848</td>\n      <td>-1.11138</td>\n      <td>-1.361691</td>\n      <td>0.761281</td>\n      <td>0.723357</td>\n      <td>0.581637</td>\n      <td>0.083246</td>\n      <td>0.037924</td>\n      <td>-0.003637</td>\n    </tr>\n    <tr>\n      <th>4</th>\n      <td>2024-05-02 10:35:59</td>\n      <td>-1.115017</td>\n      <td>-1.114848</td>\n      <td>-1.11138</td>\n      <td>-1.361691</td>\n      <td>0.830423</td>\n      <td>0.761281</td>\n      <td>0.581637</td>\n      <td>0.083246</td>\n      <td>0.069142</td>\n      <td>-0.003637</td>\n    </tr>\n  </tbody>\n</table>\n</div>"
     },
     "execution_count": 3,
     "metadata": {},
     "output_type": "execute_result"
    }
   ],
   "source": [
    "X_train = train.drop('label', axis=1)"
   ],
   "metadata": {
    "collapsed": false,
    "ExecuteTime": {
     "end_time": "2024-05-09T09:57:48.831913300Z",
     "start_time": "2024-05-09T09:57:48.640878700Z"
    }
   },
   "id": "add7742e79312c44"
  },
  {
   "cell_type": "code",
   "execution_count": null,
   "outputs": [],
   "source": [],
   "metadata": {
    "collapsed": false
   },
   "id": "14474e19ef82d880"
  }
 ],
 "metadata": {
  "kernelspec": {
   "display_name": "Python 3",
   "language": "python",
   "name": "python3"
  },
  "language_info": {
   "codemirror_mode": {
    "name": "ipython",
    "version": 2
   },
   "file_extension": ".py",
   "mimetype": "text/x-python",
   "name": "python",
   "nbconvert_exporter": "python",
   "pygments_lexer": "ipython2",
   "version": "2.7.6"
  }
 },
 "nbformat": 4,
 "nbformat_minor": 5
}
