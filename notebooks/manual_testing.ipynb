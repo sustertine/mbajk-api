{
 "cells": [
  {
   "cell_type": "code",
   "execution_count": 3,
   "id": "initial_id",
   "metadata": {
    "collapsed": true,
    "ExecuteTime": {
     "end_time": "2024-05-12T22:36:57.550633800Z",
     "start_time": "2024-05-12T22:36:57.156271800Z"
    }
   },
   "outputs": [
    {
     "name": "stdout",
     "output_type": "stream",
     "text": [
      "Connected successfully\n"
     ]
    }
   ],
   "source": [
    "from dotenv import load_dotenv\n",
    "import os\n",
    "\n",
    "from pymongo import MongoClient\n",
    "load_dotenv()\n",
    "\n",
    "clt = MongoClient(os.getenv('MONGO_URL'))\n",
    "\n",
    "try:\n",
    "    # start example code here\n",
    "    # end example code here\n",
    "    clt.admin.command(\"ping\")\n",
    "    print(\"Connected successfully\")\n",
    "    # other application code\n",
    "    clt.close()\n",
    "except Exception as e:\n",
    "    raise Exception(\n",
    "        \"The following error occurred: \", e)"
   ]
  }
 ],
 "metadata": {
  "kernelspec": {
   "display_name": "Python 3",
   "language": "python",
   "name": "python3"
  },
  "language_info": {
   "codemirror_mode": {
    "name": "ipython",
    "version": 2
   },
   "file_extension": ".py",
   "mimetype": "text/x-python",
   "name": "python",
   "nbconvert_exporter": "python",
   "pygments_lexer": "ipython2",
   "version": "2.7.6"
  }
 },
 "nbformat": 4,
 "nbformat_minor": 5
}
