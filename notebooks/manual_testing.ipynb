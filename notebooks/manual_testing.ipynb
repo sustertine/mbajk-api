{
 "cells": [
  {
   "cell_type": "code",
   "execution_count": 10,
   "id": "initial_id",
   "metadata": {
    "collapsed": true,
    "ExecuteTime": {
     "end_time": "2024-05-02T12:21:55.009213700Z",
     "start_time": "2024-05-02T12:21:54.837303100Z"
    }
   },
   "outputs": [
    {
     "data": {
      "text/plain": "date                            0\ntemperature                     0\ndew_point                       0\napparent_temperature            0\nsurface_pressure                0\navailable_bike_stands           0\nlagged_available_bike_stands    0\nrolling_mean_bike_stands        0\nrolling_std_bike_stands         0\ndiff_available_bike_stands      0\ntemperature_diff                0\ndtype: int64"
     },
     "execution_count": 10,
     "metadata": {},
     "output_type": "execute_result"
    }
   ],
   "source": [
    "import pandas as pd\n",
    "\n",
    "df = pd.read_csv('../data/processed/mbajk/DVORANA TABOR.csv')\n",
    "\n",
    "df.isnull().sum()"
   ]
  },
  {
   "cell_type": "code",
   "execution_count": null,
   "outputs": [],
   "source": [
    "# temperature', 'relative_humidity', 'dew_point',\n",
    "# 'apparent_temperature', 'precipitation_probability', 'rain',\n",
    "#  'surface_pressure'"
   ],
   "metadata": {
    "collapsed": false
   },
   "id": "add7742e79312c44"
  },
  {
   "cell_type": "code",
   "execution_count": null,
   "outputs": [],
   "source": [],
   "metadata": {
    "collapsed": false
   },
   "id": "14474e19ef82d880"
  }
 ],
 "metadata": {
  "kernelspec": {
   "display_name": "Python 3",
   "language": "python",
   "name": "python3"
  },
  "language_info": {
   "codemirror_mode": {
    "name": "ipython",
    "version": 2
   },
   "file_extension": ".py",
   "mimetype": "text/x-python",
   "name": "python",
   "nbconvert_exporter": "python",
   "pygments_lexer": "ipython2",
   "version": "2.7.6"
  }
 },
 "nbformat": 4,
 "nbformat_minor": 5
}
