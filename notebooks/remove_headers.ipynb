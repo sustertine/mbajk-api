{
 "cells": [
  {
   "cell_type": "code",
   "execution_count": 2,
   "id": "initial_id",
   "metadata": {
    "collapsed": true,
    "ExecuteTime": {
     "end_time": "2024-05-02T13:48:07.967619200Z",
     "start_time": "2024-05-02T13:48:07.256579700Z"
    }
   },
   "outputs": [],
   "source": [
    "import os\n",
    "import pandas as pd\n",
    "\n",
    "# Define the expected column names\n",
    "expected_columns = ['date', 'temperature', 'relative_humidity', 'dew_point', 'apparent_temperature',\n",
    "                    'precipitation_probability', 'rain', 'surface_pressure']\n",
    "\n",
    "# Directory containing the CSV files\n",
    "directory = '../data/raw/weather'\n",
    "\n",
    "# Iterate over all CSV files in the directory\n",
    "for filename in os.listdir(directory):\n",
    "    if filename.endswith('.csv'):\n",
    "        file_path = os.path.join(directory, filename)\n",
    "\n",
    "        # Read the CSV file into a DataFrame\n",
    "        df = pd.read_csv(file_path)\n",
    "\n",
    "        # Check if any row matches the expected column names\n",
    "        mask = (df == expected_columns).all(axis=1)\n",
    "\n",
    "        # If a match is found, drop that row\n",
    "        df = df[~mask]\n",
    "\n",
    "        # Write the DataFrame back to the CSV file\n",
    "        df.to_csv(file_path, index=False)"
   ]
  }
 ],
 "metadata": {
  "kernelspec": {
   "display_name": "Python 3",
   "language": "python",
   "name": "python3"
  },
  "language_info": {
   "codemirror_mode": {
    "name": "ipython",
    "version": 2
   },
   "file_extension": ".py",
   "mimetype": "text/x-python",
   "name": "python",
   "nbconvert_exporter": "python",
   "pygments_lexer": "ipython2",
   "version": "2.7.6"
  }
 },
 "nbformat": 4,
 "nbformat_minor": 5
}
