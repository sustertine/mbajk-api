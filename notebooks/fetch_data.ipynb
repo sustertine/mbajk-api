{
 "cells": [
  {
   "cell_type": "code",
   "execution_count": 31,
   "id": "initial_id",
   "metadata": {
    "collapsed": true,
    "ExecuteTime": {
     "end_time": "2024-04-30T14:08:02.268992700Z",
     "start_time": "2024-04-30T14:08:02.259479500Z"
    }
   },
   "outputs": [],
   "source": [
    "import os\n",
    "from io import StringIO\n",
    "\n",
    "import pandas as pd\n",
    "import requests\n",
    "from dotenv import load_dotenv"
   ]
  },
  {
   "cell_type": "code",
   "execution_count": 32,
   "outputs": [
    {
     "data": {
      "text/plain": "                                      name                          address  \\\n0   VZAJEMNA, VARUH ZDRAVJA - BETNAVSKA C.                  Betnavska c. 83   \n1      TELEMACH - GLAVNI TRG - STARI PERON                    Glavni trg 20   \n2                 NKBM - TRG LEONA ŠTUKLJA  Ulica slovenske osamosvojitve 5   \n3      PARTIZANSKA C. - ŽELEZNIŠKA POSTAJA          Partizanska cesta 46-48   \n4                   EUROPARK - POBREŠKA C.                Pobreška cesta 18   \n5            STROSSMAYERJEVA UL. - TRŽNICA          Strossmayerjeva ulica 3   \n6         GOSPOSVETSKA C. - TURNERJEVA UL.            Gosposvetska cesta 69   \n7               KOROŠKA C. - KOROŠKI VETER                 Koroška cesta 74   \n8         GOSPOSVETSKA C. - III. GIMNAZIJA             Gosposvetska cesta 4   \n9       GORKEGA UL. - OŠ FRANCETA PREŠERNA                 Gorkega ulica 32   \n10                    POŠTA - SLOMŠKOV TRG                  Slomškov trg 10   \n11                           DVORANA TABOR                 Gorkega ulica 48   \n12                 ULICA MOŠE PIJADA - UKC              Ulica Moše Pijada 6   \n13                        LIDL - TITOVA C.                  Titova cesta 15   \n14                    SPAR - TRŽNICA TABOR                 Kardeljeva c. 55   \n15           NA POLJANAH - HEROJA ŠERCERJA                   NA POLJANAH 53   \n16            UM FGPA - LENT - SODNI STOLP                        Pristan 6   \n17                  RAZLAGOVA UL. - OBČINA                Razlagova ulica 1   \n18                    PARTIZANSKA C. - TIC             Partizanska cesta 6a   \n19           GOSPOSVETSKA C. - VRBANSKA C.            Gosposvetska cesta 20   \n20          MLADINSKA UL. - TRUBARJEVA UL.               Mladinska ulica 15   \n21        MLINSKA UL . - AVTOBUSNA POSTAJA                 Mlinska ulica 24   \n22             PETROL – LENT – VODNI STOLP                Usnjarska ulica 5   \n23         LJUBLJANSKA UL. - II. GIMNAZIJA            Ljubljanska ul. 30-25   \n24       NICEHASH - C. PROLETARSKIH BRIGAD        C. PROLETARSKIH BRIGAD 71   \n25               LJUBLJANSKA UL. - FOCHEVA                   LJUBLJANSKA 41   \n26                   JHMB – DVOETAŽNI MOST              Cesta XIV. divizije   \n27                       LIDL - KOROŠKA C.                Koroška cesta 173   \n28         PARTIZANSKA C. - CANKARJEVA UL.                Partizanska c. 13   \n\n    banking  bonus  bike_stands  available_bike_stands  available_bikes  \\\n0     False  False           20                     11                9   \n1     False  False           20                     15                5   \n2     False  False           20                     12                8   \n3     False  False           20                     15                5   \n4     False  False           21                      8               13   \n5     False  False           20                     11                9   \n6     False  False           22                     18                4   \n7     False  False           20                     14                6   \n8     False  False           20                     17                3   \n9     False  False           20                     10               10   \n10    False  False           20                      9               11   \n11    False  False           20                     10               10   \n12    False  False           20                     17                3   \n13    False  False           20                      8               12   \n14    False  False           20                     10               10   \n15    False  False           20                     15                5   \n16    False  False           20                     12                8   \n17    False  False           20                     12                8   \n18    False  False           20                      9               11   \n19    False  False           22                     17                5   \n20    False  False           16                      7                9   \n21    False  False           20                     11                9   \n22    False  False           20                     11                9   \n23    False  False           20                     10               10   \n24    False  False           20                      8               12   \n25    False  False           20                     11                9   \n26    False  False           20                     11                9   \n27    False  False           20                     11                9   \n28    False  False           20                      9               11   \n\n   status         last_update        lat        lng  \n0    OPEN 2024-04-30 14:02:40  46.541990  15.638310  \n1    OPEN 2024-04-30 14:05:04  46.557328  15.646833  \n2    OPEN 2024-04-30 14:02:27  46.558519  15.649072  \n3    OPEN 2024-04-30 14:05:40  46.561555  15.656920  \n4    OPEN 2024-04-30 14:07:34  46.554703  15.652826  \n5    OPEN 2024-04-30 14:06:00  46.558498  15.641460  \n6    OPEN 2024-04-30 13:58:09  46.562695  15.629350  \n7    OPEN 2024-04-30 14:07:15  46.559319  15.634980  \n8    OPEN 2024-04-30 13:58:06  46.560761  15.640530  \n9    OPEN 2024-04-30 14:07:33  46.550683  15.639333  \n10   OPEN 2024-04-30 14:03:50  46.558924  15.644443  \n11   OPEN 2024-04-30 13:58:09  46.549005  15.635014  \n12   OPEN 2024-04-30 13:59:49  46.552652  15.646023  \n13   OPEN 2024-04-30 14:07:16  46.551963  15.651564  \n14   OPEN 2024-04-30 14:02:02  46.542655  15.634329  \n15   OPEN 2024-04-30 14:07:46  46.553109  15.624098  \n16   OPEN 2024-04-30 14:06:29  46.556731  15.642120  \n17   OPEN 2024-04-30 14:04:11  46.561960  15.650235  \n18   OPEN 2024-04-30 14:07:09  46.560227  15.650781  \n19   OPEN 2024-04-30 14:07:30  46.561422  15.637118  \n20   OPEN 2024-04-30 14:07:14  46.562940  15.644185  \n21   OPEN 2024-04-30 13:58:46  46.558534  15.654739  \n22   OPEN 2024-04-30 14:03:32  46.556534  15.647629  \n23   OPEN 2024-04-30 14:07:43  46.548853  15.645591  \n24   OPEN 2024-04-30 14:06:32  46.543986  15.629317  \n25   OPEN 2024-04-30 14:02:59  46.545947  15.644015  \n26   OPEN 2024-04-30 14:02:21  46.554741  15.659814  \n27   OPEN 2024-04-30 14:07:34  46.565603  15.623133  \n28   OPEN 2024-04-30 14:07:31  46.560560  15.652935  ",
      "text/html": "<div>\n<style scoped>\n    .dataframe tbody tr th:only-of-type {\n        vertical-align: middle;\n    }\n\n    .dataframe tbody tr th {\n        vertical-align: top;\n    }\n\n    .dataframe thead th {\n        text-align: right;\n    }\n</style>\n<table border=\"1\" class=\"dataframe\">\n  <thead>\n    <tr style=\"text-align: right;\">\n      <th></th>\n      <th>name</th>\n      <th>address</th>\n      <th>banking</th>\n      <th>bonus</th>\n      <th>bike_stands</th>\n      <th>available_bike_stands</th>\n      <th>available_bikes</th>\n      <th>status</th>\n      <th>last_update</th>\n      <th>lat</th>\n      <th>lng</th>\n    </tr>\n  </thead>\n  <tbody>\n    <tr>\n      <th>0</th>\n      <td>VZAJEMNA, VARUH ZDRAVJA - BETNAVSKA C.</td>\n      <td>Betnavska c. 83</td>\n      <td>False</td>\n      <td>False</td>\n      <td>20</td>\n      <td>11</td>\n      <td>9</td>\n      <td>OPEN</td>\n      <td>2024-04-30 14:02:40</td>\n      <td>46.541990</td>\n      <td>15.638310</td>\n    </tr>\n    <tr>\n      <th>1</th>\n      <td>TELEMACH - GLAVNI TRG - STARI PERON</td>\n      <td>Glavni trg 20</td>\n      <td>False</td>\n      <td>False</td>\n      <td>20</td>\n      <td>15</td>\n      <td>5</td>\n      <td>OPEN</td>\n      <td>2024-04-30 14:05:04</td>\n      <td>46.557328</td>\n      <td>15.646833</td>\n    </tr>\n    <tr>\n      <th>2</th>\n      <td>NKBM - TRG LEONA ŠTUKLJA</td>\n      <td>Ulica slovenske osamosvojitve 5</td>\n      <td>False</td>\n      <td>False</td>\n      <td>20</td>\n      <td>12</td>\n      <td>8</td>\n      <td>OPEN</td>\n      <td>2024-04-30 14:02:27</td>\n      <td>46.558519</td>\n      <td>15.649072</td>\n    </tr>\n    <tr>\n      <th>3</th>\n      <td>PARTIZANSKA C. - ŽELEZNIŠKA POSTAJA</td>\n      <td>Partizanska cesta 46-48</td>\n      <td>False</td>\n      <td>False</td>\n      <td>20</td>\n      <td>15</td>\n      <td>5</td>\n      <td>OPEN</td>\n      <td>2024-04-30 14:05:40</td>\n      <td>46.561555</td>\n      <td>15.656920</td>\n    </tr>\n    <tr>\n      <th>4</th>\n      <td>EUROPARK - POBREŠKA C.</td>\n      <td>Pobreška cesta 18</td>\n      <td>False</td>\n      <td>False</td>\n      <td>21</td>\n      <td>8</td>\n      <td>13</td>\n      <td>OPEN</td>\n      <td>2024-04-30 14:07:34</td>\n      <td>46.554703</td>\n      <td>15.652826</td>\n    </tr>\n    <tr>\n      <th>5</th>\n      <td>STROSSMAYERJEVA UL. - TRŽNICA</td>\n      <td>Strossmayerjeva ulica 3</td>\n      <td>False</td>\n      <td>False</td>\n      <td>20</td>\n      <td>11</td>\n      <td>9</td>\n      <td>OPEN</td>\n      <td>2024-04-30 14:06:00</td>\n      <td>46.558498</td>\n      <td>15.641460</td>\n    </tr>\n    <tr>\n      <th>6</th>\n      <td>GOSPOSVETSKA C. - TURNERJEVA UL.</td>\n      <td>Gosposvetska cesta 69</td>\n      <td>False</td>\n      <td>False</td>\n      <td>22</td>\n      <td>18</td>\n      <td>4</td>\n      <td>OPEN</td>\n      <td>2024-04-30 13:58:09</td>\n      <td>46.562695</td>\n      <td>15.629350</td>\n    </tr>\n    <tr>\n      <th>7</th>\n      <td>KOROŠKA C. - KOROŠKI VETER</td>\n      <td>Koroška cesta 74</td>\n      <td>False</td>\n      <td>False</td>\n      <td>20</td>\n      <td>14</td>\n      <td>6</td>\n      <td>OPEN</td>\n      <td>2024-04-30 14:07:15</td>\n      <td>46.559319</td>\n      <td>15.634980</td>\n    </tr>\n    <tr>\n      <th>8</th>\n      <td>GOSPOSVETSKA C. - III. GIMNAZIJA</td>\n      <td>Gosposvetska cesta 4</td>\n      <td>False</td>\n      <td>False</td>\n      <td>20</td>\n      <td>17</td>\n      <td>3</td>\n      <td>OPEN</td>\n      <td>2024-04-30 13:58:06</td>\n      <td>46.560761</td>\n      <td>15.640530</td>\n    </tr>\n    <tr>\n      <th>9</th>\n      <td>GORKEGA UL. - OŠ FRANCETA PREŠERNA</td>\n      <td>Gorkega ulica 32</td>\n      <td>False</td>\n      <td>False</td>\n      <td>20</td>\n      <td>10</td>\n      <td>10</td>\n      <td>OPEN</td>\n      <td>2024-04-30 14:07:33</td>\n      <td>46.550683</td>\n      <td>15.639333</td>\n    </tr>\n    <tr>\n      <th>10</th>\n      <td>POŠTA - SLOMŠKOV TRG</td>\n      <td>Slomškov trg 10</td>\n      <td>False</td>\n      <td>False</td>\n      <td>20</td>\n      <td>9</td>\n      <td>11</td>\n      <td>OPEN</td>\n      <td>2024-04-30 14:03:50</td>\n      <td>46.558924</td>\n      <td>15.644443</td>\n    </tr>\n    <tr>\n      <th>11</th>\n      <td>DVORANA TABOR</td>\n      <td>Gorkega ulica 48</td>\n      <td>False</td>\n      <td>False</td>\n      <td>20</td>\n      <td>10</td>\n      <td>10</td>\n      <td>OPEN</td>\n      <td>2024-04-30 13:58:09</td>\n      <td>46.549005</td>\n      <td>15.635014</td>\n    </tr>\n    <tr>\n      <th>12</th>\n      <td>ULICA MOŠE PIJADA - UKC</td>\n      <td>Ulica Moše Pijada 6</td>\n      <td>False</td>\n      <td>False</td>\n      <td>20</td>\n      <td>17</td>\n      <td>3</td>\n      <td>OPEN</td>\n      <td>2024-04-30 13:59:49</td>\n      <td>46.552652</td>\n      <td>15.646023</td>\n    </tr>\n    <tr>\n      <th>13</th>\n      <td>LIDL - TITOVA C.</td>\n      <td>Titova cesta 15</td>\n      <td>False</td>\n      <td>False</td>\n      <td>20</td>\n      <td>8</td>\n      <td>12</td>\n      <td>OPEN</td>\n      <td>2024-04-30 14:07:16</td>\n      <td>46.551963</td>\n      <td>15.651564</td>\n    </tr>\n    <tr>\n      <th>14</th>\n      <td>SPAR - TRŽNICA TABOR</td>\n      <td>Kardeljeva c. 55</td>\n      <td>False</td>\n      <td>False</td>\n      <td>20</td>\n      <td>10</td>\n      <td>10</td>\n      <td>OPEN</td>\n      <td>2024-04-30 14:02:02</td>\n      <td>46.542655</td>\n      <td>15.634329</td>\n    </tr>\n    <tr>\n      <th>15</th>\n      <td>NA POLJANAH - HEROJA ŠERCERJA</td>\n      <td>NA POLJANAH 53</td>\n      <td>False</td>\n      <td>False</td>\n      <td>20</td>\n      <td>15</td>\n      <td>5</td>\n      <td>OPEN</td>\n      <td>2024-04-30 14:07:46</td>\n      <td>46.553109</td>\n      <td>15.624098</td>\n    </tr>\n    <tr>\n      <th>16</th>\n      <td>UM FGPA - LENT - SODNI STOLP</td>\n      <td>Pristan 6</td>\n      <td>False</td>\n      <td>False</td>\n      <td>20</td>\n      <td>12</td>\n      <td>8</td>\n      <td>OPEN</td>\n      <td>2024-04-30 14:06:29</td>\n      <td>46.556731</td>\n      <td>15.642120</td>\n    </tr>\n    <tr>\n      <th>17</th>\n      <td>RAZLAGOVA UL. - OBČINA</td>\n      <td>Razlagova ulica 1</td>\n      <td>False</td>\n      <td>False</td>\n      <td>20</td>\n      <td>12</td>\n      <td>8</td>\n      <td>OPEN</td>\n      <td>2024-04-30 14:04:11</td>\n      <td>46.561960</td>\n      <td>15.650235</td>\n    </tr>\n    <tr>\n      <th>18</th>\n      <td>PARTIZANSKA C. - TIC</td>\n      <td>Partizanska cesta 6a</td>\n      <td>False</td>\n      <td>False</td>\n      <td>20</td>\n      <td>9</td>\n      <td>11</td>\n      <td>OPEN</td>\n      <td>2024-04-30 14:07:09</td>\n      <td>46.560227</td>\n      <td>15.650781</td>\n    </tr>\n    <tr>\n      <th>19</th>\n      <td>GOSPOSVETSKA C. - VRBANSKA C.</td>\n      <td>Gosposvetska cesta 20</td>\n      <td>False</td>\n      <td>False</td>\n      <td>22</td>\n      <td>17</td>\n      <td>5</td>\n      <td>OPEN</td>\n      <td>2024-04-30 14:07:30</td>\n      <td>46.561422</td>\n      <td>15.637118</td>\n    </tr>\n    <tr>\n      <th>20</th>\n      <td>MLADINSKA UL. - TRUBARJEVA UL.</td>\n      <td>Mladinska ulica 15</td>\n      <td>False</td>\n      <td>False</td>\n      <td>16</td>\n      <td>7</td>\n      <td>9</td>\n      <td>OPEN</td>\n      <td>2024-04-30 14:07:14</td>\n      <td>46.562940</td>\n      <td>15.644185</td>\n    </tr>\n    <tr>\n      <th>21</th>\n      <td>MLINSKA UL . - AVTOBUSNA POSTAJA</td>\n      <td>Mlinska ulica 24</td>\n      <td>False</td>\n      <td>False</td>\n      <td>20</td>\n      <td>11</td>\n      <td>9</td>\n      <td>OPEN</td>\n      <td>2024-04-30 13:58:46</td>\n      <td>46.558534</td>\n      <td>15.654739</td>\n    </tr>\n    <tr>\n      <th>22</th>\n      <td>PETROL – LENT – VODNI STOLP</td>\n      <td>Usnjarska ulica 5</td>\n      <td>False</td>\n      <td>False</td>\n      <td>20</td>\n      <td>11</td>\n      <td>9</td>\n      <td>OPEN</td>\n      <td>2024-04-30 14:03:32</td>\n      <td>46.556534</td>\n      <td>15.647629</td>\n    </tr>\n    <tr>\n      <th>23</th>\n      <td>LJUBLJANSKA UL. - II. GIMNAZIJA</td>\n      <td>Ljubljanska ul. 30-25</td>\n      <td>False</td>\n      <td>False</td>\n      <td>20</td>\n      <td>10</td>\n      <td>10</td>\n      <td>OPEN</td>\n      <td>2024-04-30 14:07:43</td>\n      <td>46.548853</td>\n      <td>15.645591</td>\n    </tr>\n    <tr>\n      <th>24</th>\n      <td>NICEHASH - C. PROLETARSKIH BRIGAD</td>\n      <td>C. PROLETARSKIH BRIGAD 71</td>\n      <td>False</td>\n      <td>False</td>\n      <td>20</td>\n      <td>8</td>\n      <td>12</td>\n      <td>OPEN</td>\n      <td>2024-04-30 14:06:32</td>\n      <td>46.543986</td>\n      <td>15.629317</td>\n    </tr>\n    <tr>\n      <th>25</th>\n      <td>LJUBLJANSKA UL. - FOCHEVA</td>\n      <td>LJUBLJANSKA 41</td>\n      <td>False</td>\n      <td>False</td>\n      <td>20</td>\n      <td>11</td>\n      <td>9</td>\n      <td>OPEN</td>\n      <td>2024-04-30 14:02:59</td>\n      <td>46.545947</td>\n      <td>15.644015</td>\n    </tr>\n    <tr>\n      <th>26</th>\n      <td>JHMB – DVOETAŽNI MOST</td>\n      <td>Cesta XIV. divizije</td>\n      <td>False</td>\n      <td>False</td>\n      <td>20</td>\n      <td>11</td>\n      <td>9</td>\n      <td>OPEN</td>\n      <td>2024-04-30 14:02:21</td>\n      <td>46.554741</td>\n      <td>15.659814</td>\n    </tr>\n    <tr>\n      <th>27</th>\n      <td>LIDL - KOROŠKA C.</td>\n      <td>Koroška cesta 173</td>\n      <td>False</td>\n      <td>False</td>\n      <td>20</td>\n      <td>11</td>\n      <td>9</td>\n      <td>OPEN</td>\n      <td>2024-04-30 14:07:34</td>\n      <td>46.565603</td>\n      <td>15.623133</td>\n    </tr>\n    <tr>\n      <th>28</th>\n      <td>PARTIZANSKA C. - CANKARJEVA UL.</td>\n      <td>Partizanska c. 13</td>\n      <td>False</td>\n      <td>False</td>\n      <td>20</td>\n      <td>9</td>\n      <td>11</td>\n      <td>OPEN</td>\n      <td>2024-04-30 14:07:31</td>\n      <td>46.560560</td>\n      <td>15.652935</td>\n    </tr>\n  </tbody>\n</table>\n</div>"
     },
     "execution_count": 32,
     "metadata": {},
     "output_type": "execute_result"
    }
   ],
   "source": [
    "load_dotenv()\n",
    "url = os.getenv('MBAJK_URL')\n",
    "response = requests.get(url)\n",
    "\n",
    "df = pd.read_json(StringIO(response.text))\n",
    "df.drop(columns=['contract_name','number'], inplace=True, axis=1)\n",
    "df['last_update'] = pd.to_datetime(df['last_update'], unit='ms')\n",
    "\n",
    "df_position = pd.json_normalize(df['position'])\n",
    "df = pd.concat([df, df_position], axis=1)\n",
    "df.drop(columns=['position'], inplace=True)\n",
    "\n",
    "df # 2024-04-30 13:46:24"
   ],
   "metadata": {
    "collapsed": false,
    "ExecuteTime": {
     "end_time": "2024-04-30T14:08:02.671085200Z",
     "start_time": "2024-04-30T14:08:02.263995500Z"
    }
   },
   "id": "dc1884e6d72f31fd"
  },
  {
   "cell_type": "code",
   "execution_count": 33,
   "outputs": [],
   "source": [
    "for name, group in df.groupby('name'):\n",
    "    filename = f'../data/raw/{name}.csv'\n",
    "    if os.path.exists(filename):\n",
    "        existing_df = pd.read_csv(filename, parse_dates=['last_update'])\n",
    "        if existing_df['last_update'].max() < group['last_update'].max():\n",
    "            group.to_csv(filename, mode='a', header=False, index=False)\n",
    "    else:\n",
    "        group.to_csv(filename, index=False)"
   ],
   "metadata": {
    "collapsed": false,
    "ExecuteTime": {
     "end_time": "2024-04-30T14:08:02.783572100Z",
     "start_time": "2024-04-30T14:08:02.667086100Z"
    }
   },
   "id": "b71008ccf175162f"
  }
 ],
 "metadata": {
  "kernelspec": {
   "display_name": "Python 3",
   "language": "python",
   "name": "python3"
  },
  "language_info": {
   "codemirror_mode": {
    "name": "ipython",
    "version": 2
   },
   "file_extension": ".py",
   "mimetype": "text/x-python",
   "name": "python",
   "nbconvert_exporter": "python",
   "pygments_lexer": "ipython2",
   "version": "2.7.6"
  }
 },
 "nbformat": 4,
 "nbformat_minor": 5
}
