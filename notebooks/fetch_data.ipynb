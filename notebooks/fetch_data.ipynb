{
 "cells": [
  {
   "cell_type": "code",
   "execution_count": 4,
   "id": "initial_id",
   "metadata": {
    "collapsed": true,
    "ExecuteTime": {
     "end_time": "2024-05-02T10:03:30.240503500Z",
     "start_time": "2024-05-02T10:03:30.208503500Z"
    }
   },
   "outputs": [],
   "source": [
    "import os\n",
    "from io import StringIO\n",
    "\n",
    "import pandas as pd\n",
    "import requests\n",
    "from dotenv import load_dotenv"
   ]
  },
  {
   "cell_type": "code",
   "execution_count": 5,
   "outputs": [],
   "source": [
    "load_dotenv()\n",
    "url = os.getenv('MBAJK_URL')\n",
    "response = requests.get(url)\n",
    "\n",
    "df = pd.read_json(StringIO(response.text))\n",
    "df.drop(columns=['contract_name','number'], inplace=True, axis=1)\n",
    "df['last_update'] = pd.to_datetime(df['last_update'], unit='ms')\n",
    "\n",
    "df_position = pd.json_normalize(df['position'])\n",
    "df = pd.concat([df, df_position], axis=1)\n",
    "df.drop(columns=['position'], inplace=True)"
   ],
   "metadata": {
    "collapsed": false,
    "ExecuteTime": {
     "end_time": "2024-05-02T10:03:30.372990700Z",
     "start_time": "2024-05-02T10:03:30.215503800Z"
    }
   },
   "id": "dc1884e6d72f31fd"
  },
  {
   "cell_type": "code",
   "execution_count": 6,
   "outputs": [],
   "source": [
    "for name, group in df.groupby('name'):\n",
    "    filename = f'../data/raw/mbajk/{name}.csv'\n",
    "    if os.path.exists(filename):\n",
    "        existing_df = pd.read_csv(filename, parse_dates=['last_update'])\n",
    "        if existing_df['last_update'].max() < group['last_update'].max():\n",
    "            group.to_csv(filename, mode='a', header=False, index=False)\n",
    "    else:\n",
    "        group.to_csv(filename, index=False)"
   ],
   "metadata": {
    "collapsed": false,
    "ExecuteTime": {
     "end_time": "2024-05-02T10:03:30.448261400Z",
     "start_time": "2024-05-02T10:03:30.375986900Z"
    }
   },
   "id": "b71008ccf175162f"
  }
 ],
 "metadata": {
  "kernelspec": {
   "display_name": "Python 3",
   "language": "python",
   "name": "python3"
  },
  "language_info": {
   "codemirror_mode": {
    "name": "ipython",
    "version": 2
   },
   "file_extension": ".py",
   "mimetype": "text/x-python",
   "name": "python",
   "nbconvert_exporter": "python",
   "pygments_lexer": "ipython2",
   "version": "2.7.6"
  }
 },
 "nbformat": 4,
 "nbformat_minor": 5
}
